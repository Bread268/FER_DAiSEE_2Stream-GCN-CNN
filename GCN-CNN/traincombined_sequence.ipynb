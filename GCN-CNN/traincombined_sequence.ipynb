{
 "cells": [
  {
   "cell_type": "code",
   "execution_count": 1,
   "metadata": {},
   "outputs": [],
   "source": [
    "import os\n",
    "import matplotlib.pyplot as plt\n",
    "import pandas as pd\n",
    "import numpy as np\n",
    "import torch\n",
    "import torch.nn as nn\n",
    "import torch.optim as optim\n",
    "import torch.nn.functional as F\n",
    "from torch_geometric.loader import DataLoader\n",
    "from torch_geometric.data import Data\n",
    "from torch.utils.data import TensorDataset\n",
    "from torch.utils.data import DataLoader as dl\n",
    "from torch_geometric.nn import GCNConv, BatchNorm, global_max_pool\n",
    "from scipy.spatial import Delaunay\n",
    "import networkx as nx\n",
    "from torch_geometric.utils import to_networkx\n",
    "from sklearn.preprocessing import StandardScaler, MinMaxScaler\n",
    "import seaborn as sns"
   ]
  },
  {
   "cell_type": "code",
   "execution_count": 2,
   "metadata": {},
   "outputs": [],
   "source": [
    "def shuffle_and_sync_data(features_gcn, labels_gcn, filenames_gcn, features_cnn, labels_cnn, filenames_cnn, random_state=None):\n",
    "    np.random.seed(random_state)\n",
    "    indices = np.random.permutation(len(filenames_gcn))\n",
    "    return (features_gcn[indices], labels_gcn[indices], filenames_gcn[indices],\n",
    "            features_cnn[indices], labels_cnn[indices], filenames_cnn[indices])"
   ]
  },
  {
   "cell_type": "code",
   "execution_count": 3,
   "metadata": {},
   "outputs": [],
   "source": [
    "train_df = pd.read_csv(\"/home/muhammadariz/Dataset/V3b/TrainEngagement_v3b.csv\")\n",
    "val_df = pd.read_csv(\"/home/muhammadariz/Dataset/V3b/ValEngagement_v3b.csv\")\n",
    "test_df = pd.read_csv(\"/home/muhammadariz/Dataset/V3b/TestEngagement_v3b.csv\")"
   ]
  },
  {
   "cell_type": "code",
   "execution_count": 4,
   "metadata": {},
   "outputs": [],
   "source": [
    "train_au_df = pd.read_csv('/home/muhammadariz/Dataset/blendshape/TrainEngagement_blendshape.csv')\n",
    "val_au_df = pd.read_csv('/home/muhammadariz/Dataset/blendshape/ValEngagement_blendshape.csv')\n",
    "test_au_df = pd.read_csv('/home/muhammadariz/Dataset/blendshape/TestEngagement_blendshape.csv')"
   ]
  },
  {
   "cell_type": "code",
   "execution_count": 5,
   "metadata": {},
   "outputs": [],
   "source": [
    "#GCN data\n",
    "train_filenames = train_df['file_name'].str.split('.').str[0].values\n",
    "train_labels = train_df['labels'].values\n",
    "train_df = train_df.drop(columns=['file_name', 'labels']).values\n",
    "\n",
    "val_filenames = val_df['file_name'].str.split('.').str[0].values\n",
    "val_labels = val_df['labels'].values\n",
    "val_df = val_df.drop(columns=['file_name', 'labels']).values\n",
    "\n",
    "test_filenames = test_df['file_name'].str.split('.').str[0].values\n",
    "test_labels = test_df['labels'].values\n",
    "test_df = test_df.drop(columns=['file_name', 'labels']).values"
   ]
  },
  {
   "cell_type": "code",
   "execution_count": 6,
   "metadata": {},
   "outputs": [],
   "source": [
    "#CNN data\n",
    "train_au_filenames = train_au_df['file_name'].str.split('.').str[0].values\n",
    "train_au_features = train_au_df.drop(columns=['file_name']).values\n",
    "\n",
    "val_au_filenames = val_au_df['file_name'].str.split('.').str[0].values\n",
    "val_au_features = val_au_df.drop(columns=['file_name']).values\n",
    "\n",
    "test_au_filenames = test_au_df['file_name'].str.split('.').str[0].values\n",
    "test_au_features = test_au_df.drop(columns=['file_name']).values"
   ]
  },
  {
   "cell_type": "code",
   "execution_count": 7,
   "metadata": {},
   "outputs": [],
   "source": [
    "(train_df, train_labels, train_filenames, \n",
    " train_au_features, train_au_labels, train_au_filenames) = shuffle_and_sync_data(\n",
    "    train_df, train_labels, train_filenames,\n",
    "    train_au_features, train_labels, train_au_filenames,\n",
    "    random_state=42)\n",
    "\n",
    "(val_df, val_labels, val_filenames, \n",
    " val_au_features, val_au_labels, val_au_filenames) = shuffle_and_sync_data(\n",
    "    val_df, val_labels, val_filenames,\n",
    "    val_au_features, val_labels, val_au_filenames,\n",
    "    random_state=42)\n",
    "\n",
    "(test_df, test_labels, test_filenames, \n",
    " test_au_features, test_au_labels, test_au_filenames) = shuffle_and_sync_data(\n",
    "    test_df, test_labels, test_filenames,\n",
    "    test_au_features, test_labels, test_au_filenames,\n",
    "    random_state=42)"
   ]
  },
  {
   "cell_type": "code",
   "execution_count": 8,
   "metadata": {},
   "outputs": [],
   "source": [
    "minmax_scaler = MinMaxScaler()\n",
    "train_df = minmax_scaler.fit_transform(train_df)\n",
    "val_df = minmax_scaler.transform(val_df)\n",
    "test_df = minmax_scaler.transform(test_df)"
   ]
  },
  {
   "cell_type": "code",
   "execution_count": 9,
   "metadata": {},
   "outputs": [],
   "source": [
    "train_labels = torch.tensor(train_labels, dtype=torch.long)\n",
    "val_labels = torch.tensor(val_labels, dtype=torch.long)\n",
    "test_labels = torch.tensor(test_labels, dtype=torch.long)"
   ]
  },
  {
   "cell_type": "code",
   "execution_count": 10,
   "metadata": {},
   "outputs": [],
   "source": [
    "def create_delaunay_graph_data(X, y):\n",
    "    num_nodes = X.shape[1] // 2\n",
    "    data_list = []\n",
    "\n",
    "    for i in range(X.shape[0]):\n",
    "        node_features = torch.tensor(X[i].reshape(num_nodes, 2), dtype=torch.float)\n",
    "        points = node_features.numpy()  # Use x and y for Delaunay triangulation\n",
    "        tri = Delaunay(points)\n",
    "\n",
    "#         y_tensor = torch.tensor([y[i]], dtype=torch.long)\n",
    "        y_tensor = y[i]\n",
    "        edges = set()\n",
    "        for simplex in tri.simplices:\n",
    "            for j in range(3):\n",
    "                for k in range(j + 1, 3):\n",
    "                    edges.add((simplex[j], simplex[k]))\n",
    "                    edges.add((simplex[k], simplex[j]))\n",
    "        \n",
    "        edge_index = torch.tensor(list(edges), dtype=torch.long).t().contiguous()\n",
    "        data_list.append(Data(x=node_features, edge_index=edge_index, y=y_tensor))\n",
    "    \n",
    "    return data_list"
   ]
  },
  {
   "cell_type": "code",
   "execution_count": 11,
   "metadata": {},
   "outputs": [],
   "source": [
    "train_data = create_delaunay_graph_data(train_df, train_labels)\n",
    "val_data = create_delaunay_graph_data(val_df, val_labels)\n",
    "test_data = create_delaunay_graph_data(test_df, test_labels)"
   ]
  },
  {
   "cell_type": "code",
   "execution_count": 12,
   "metadata": {},
   "outputs": [],
   "source": [
    "for i, data in enumerate(train_data):\n",
    "    data.filename = train_filenames[i]\n",
    "\n",
    "for i, data in enumerate(val_data):\n",
    "    data.filename = val_filenames[i]\n",
    "    \n",
    "for i, data in enumerate(test_data):\n",
    "    data.filename = test_filenames[i]"
   ]
  },
  {
   "cell_type": "code",
   "execution_count": 13,
   "metadata": {},
   "outputs": [],
   "source": [
    "train_loader = DataLoader(train_data, batch_size=32, shuffle=False)\n",
    "val_loader = DataLoader(val_data, batch_size=32, shuffle=False)\n",
    "test_loader = DataLoader(test_data, batch_size=32, shuffle=False)"
   ]
  },
  {
   "cell_type": "code",
   "execution_count": 14,
   "metadata": {},
   "outputs": [],
   "source": [
    "scaler = MinMaxScaler()\n",
    "train_au_features = scaler.fit_transform(train_au_features)\n",
    "val_au_features = scaler.transform(val_au_features)\n",
    "test_au_features = scaler.transform(test_au_features)"
   ]
  },
  {
   "cell_type": "code",
   "execution_count": 15,
   "metadata": {},
   "outputs": [],
   "source": [
    "train_au_features = torch.tensor(train_au_features, dtype=torch.float32).unsqueeze(1).unsqueeze(2)\n",
    "val_au_features = torch.tensor(val_au_features, dtype=torch.float32).unsqueeze(1).unsqueeze(2)\n",
    "test_au_features = torch.tensor(test_au_features, dtype=torch.float32).unsqueeze(1).unsqueeze(2)\n"
   ]
  },
  {
   "cell_type": "code",
   "execution_count": 16,
   "metadata": {},
   "outputs": [],
   "source": [
    "class CustomTensorDataset(torch.utils.data.Dataset):\n",
    "    def __init__(self, tensors, filenames):\n",
    "        self.tensors = tensors\n",
    "        self.filenames = filenames\n",
    "\n",
    "    def __getitem__(self, index):\n",
    "        return tuple(tensor[index] for tensor in self.tensors) + (self.filenames[index],)\n",
    "\n",
    "    def __len__(self):\n",
    "        return len(self.tensors[0])\n",
    "\n",
    "# Prepare datasets with filenames\n",
    "train_au_dataset = CustomTensorDataset((train_au_features, train_labels), train_au_filenames)\n",
    "val_au_dataset = CustomTensorDataset((val_au_features, val_labels), val_au_filenames)\n",
    "test_au_dataset = CustomTensorDataset((test_au_features, test_labels), test_au_filenames)"
   ]
  },
  {
   "cell_type": "code",
   "execution_count": 17,
   "metadata": {},
   "outputs": [],
   "source": [
    "train_au_loader = dl(train_au_dataset, batch_size=32, shuffle=False)\n",
    "val_au_loader = dl(val_au_dataset, batch_size=32, shuffle=False)\n",
    "test_au_loader = dl(test_au_dataset, batch_size=32, shuffle=False)"
   ]
  },
  {
   "cell_type": "code",
   "execution_count": 18,
   "metadata": {},
   "outputs": [],
   "source": [
    "# class LDAMLoss(nn.Module):\n",
    "#     def __init__(self, cls_num_list, max_m=0.5, weight=None, s=30):\n",
    "#         super(LDAMLoss, self).__init__()\n",
    "#         m_list = 1.0 / np.sqrt(np.sqrt(cls_num_list))\n",
    "#         m_list = m_list * (max_m / np.max(m_list))\n",
    "#         m_list = torch.cuda.FloatTensor(m_list)\n",
    "#         self.m_list = m_list\n",
    "#         assert s > 0\n",
    "#         self.s = s\n",
    "#         self.weight = weight\n",
    "\n",
    "#     def forward(self, x, target):\n",
    "#         index = torch.zeros_like(x, dtype=torch.uint8)\n",
    "#         index.scatter_(1, target.data.view(-1, 1), 1)\n",
    "        \n",
    "#         index_float = index.type(torch.cuda.FloatTensor)\n",
    "#         batch_m = torch.matmul(self.m_list[None, :], index_float.transpose(0,1))\n",
    "#         batch_m = batch_m.view((-1, 1))\n",
    "#         x_m = x - batch_m\n",
    "    \n",
    "#         output = torch.where(index, x_m, x)\n",
    "#         return F.cross_entropy(self.s * output, target, weight=self.weight)"
   ]
  },
  {
   "cell_type": "code",
   "execution_count": 19,
   "metadata": {},
   "outputs": [],
   "source": [
    "# class LDAMLoss(nn.Module):\n",
    "#     def __init__(self, cls_num_list, max_m=0.5, s=30):\n",
    "#         super(LDAMLoss, self).__init__()\n",
    "#         m_list = 1.0 / np.sqrt(np.sqrt(cls_num_list))\n",
    "#         m_list = m_list * (max_m / np.max(m_list))\n",
    "#         self.m_list = torch.cuda.FloatTensor(m_list)\n",
    "#         assert s > 0\n",
    "#         self.s = s\n",
    "\n",
    "#     def forward(self, x, target, weight):\n",
    "#         index = torch.zeros_like(x, dtype=torch.uint8)\n",
    "#         index.scatter_(1, target.data.view(-1, 1), 1)\n",
    "        \n",
    "#         index_float = index.type(torch.cuda.FloatTensor)\n",
    "#         batch_m = torch.matmul(self.m_list[None, :], index_float.transpose(0, 1))\n",
    "#         batch_m = batch_m.view((-1, 1))\n",
    "#         x_m = x - batch_m\n",
    "    \n",
    "#         output = torch.where(index, x_m, x)\n",
    "#         return F.cross_entropy(self.s * output, target, weight=weight)"
   ]
  },
  {
   "cell_type": "code",
   "execution_count": 20,
   "metadata": {},
   "outputs": [],
   "source": [
    "# class SimpleGNN(torch.nn.Module):\n",
    "#     def __init__(self, num_node_features, hidden_dim, num_classes):\n",
    "#         super(SimpleGNN, self).__init__()\n",
    "#         self.conv1 = GCNConv(num_node_features, hidden_dim)\n",
    "#         self.bn1 = nn.BatchNorm1d(hidden_dim)\n",
    "#         self.conv2 = GCNConv(hidden_dim, hidden_dim * 2)\n",
    "#         self.bn2 = nn.BatchNorm1d(hidden_dim * 2)\n",
    "#         self.dropout = nn.Dropout(0.2)  # Dropout with a rate of 0.5\n",
    "#         self.fc1 = torch.nn.Linear(hidden_dim * 2, hidden_dim)\n",
    "#         self.fc2 = torch.nn.Linear(hidden_dim, num_classes)\n",
    "\n",
    "#     def forward(self, data):\n",
    "#         x, edge_index, batch = data.x, data.edge_index, data.batch\n",
    "#         x = self.conv1(x, edge_index)\n",
    "#         x = self.bn1(x)\n",
    "#         x = F.relu(x)\n",
    "#         # x = self.dropout(x)  # Apply dropout\n",
    "#         x = self.conv2(x, edge_index)\n",
    "#         x = self.bn2(x)\n",
    "#         x = F.relu(x)\n",
    "#         x = global_max_pool(x, batch)\n",
    "#         x = self.fc1(x)\n",
    "#         x = F.relu(x)\n",
    "#         # x = self.dropout(x)  # Apply dropout\n",
    "#         x = self.fc2(x)\n",
    "#         return F.log_softmax(x, dim=1)\n",
    "# device = torch.device('cuda' if torch.cuda.is_available() else 'cpu')\n",
    "# print(device)"
   ]
  },
  {
   "cell_type": "code",
   "execution_count": 21,
   "metadata": {},
   "outputs": [
    {
     "name": "stdout",
     "output_type": "stream",
     "text": [
      "cuda\n"
     ]
    }
   ],
   "source": [
    "class SimpleGNN(nn.Module):\n",
    "    def __init__(self, num_node_features, hidden_dim):\n",
    "        super(SimpleGNN, self).__init__()\n",
    "        self.conv1 = GCNConv(num_node_features, hidden_dim)\n",
    "        self.bn1 = nn.BatchNorm1d(hidden_dim)\n",
    "        self.conv2 = GCNConv(hidden_dim, hidden_dim * 2)\n",
    "        self.bn2 = nn.BatchNorm1d(hidden_dim * 2)\n",
    "        self.fc1 = nn.Linear(hidden_dim * 2, hidden_dim)\n",
    "    \n",
    "    def forward(self, data):\n",
    "        x, edge_index, batch = data.x, data.edge_index, data.batch\n",
    "        x = self.conv1(x, edge_index)\n",
    "        x = self.bn1(x)\n",
    "        x = F.relu(x)\n",
    "        x = self.conv2(x, edge_index)\n",
    "        x = self.bn2(x)\n",
    "        x = F.relu(x)\n",
    "        x = global_max_pool(x, batch)\n",
    "        x = self.fc1(x)\n",
    "        x = F.relu(x)\n",
    "        return x\n",
    "device = torch.device('cuda' if torch.cuda.is_available() else 'cpu')\n",
    "print(device)"
   ]
  },
  {
   "cell_type": "code",
   "execution_count": 22,
   "metadata": {},
   "outputs": [],
   "source": [
    "import torch.nn as nn\n",
    "import torch.nn.functional as F\n",
    "\n",
    "class SimpleCNN(nn.Module):\n",
    "    def __init__(self, input_channels, num_classes):\n",
    "        super(SimpleCNN, self).__init__()\n",
    "        self.conv1 = nn.Conv2d(input_channels, 32, kernel_size=3, stride=1, padding=1)\n",
    "        self.bn1 = nn.BatchNorm2d(32)\n",
    "        \n",
    "        self.conv2 = nn.Conv2d(32, 64, kernel_size=3, stride=1, padding=1)\n",
    "        self.bn2 = nn.BatchNorm2d(64)\n",
    "        \n",
    "        self.conv3 = nn.Conv2d(64, 128, kernel_size=3, stride=1, padding=1)\n",
    "        self.bn3 = nn.BatchNorm2d(128)\n",
    "        \n",
    "        self.adaptive_pool = nn.AdaptiveMaxPool2d((4, 4))  # Ensure fixed output size\n",
    "        \n",
    "        self.fc1 = nn.Linear(128 * 4 * 4, 256)\n",
    "        self.bn_fc1 = nn.BatchNorm1d(256)\n",
    "        self.fc2 = nn.Linear(256, num_classes)\n",
    "    \n",
    "    def forward(self, x):\n",
    "        x = self.bn1(F.relu(self.conv1(x)))\n",
    "        x = self.bn2(F.relu(self.conv2(x)))\n",
    "        x = self.bn3(F.relu(self.conv3(x)))\n",
    "        x = self.adaptive_pool(x)\n",
    "        x = x.view(x.size(0), -1)\n",
    "        x = self.bn_fc1(F.relu(self.fc1(x)))\n",
    "        return x  # Remove the final fc2 layer since we are using fc_combined\n"
   ]
  },
  {
   "cell_type": "code",
   "execution_count": 23,
   "metadata": {},
   "outputs": [],
   "source": [
    "class CombinedModel(nn.Module):\n",
    "    def __init__(self, gcn, cnn, hidden_dim, num_classes):\n",
    "        super(CombinedModel, self).__init__()\n",
    "        self.gcn = gcn\n",
    "        self.cnn = cnn\n",
    "        \n",
    "        # Adjust the dimensions to match the concatenated output\n",
    "        self.fc_combined = nn.Linear(hidden_dim + 256, num_classes)\n",
    "    \n",
    "    def forward(self, data, action_units):\n",
    "        gcn_features = self.gcn(data)\n",
    "        cnn_features = self.cnn(action_units)\n",
    "        \n",
    "        # Ensure the dimensions are compatible for concatenation\n",
    "        combined_features = torch.cat((gcn_features, cnn_features), dim=1)\n",
    "        out = self.fc_combined(combined_features)\n",
    "        return out\n"
   ]
  },
  {
   "cell_type": "code",
   "execution_count": 24,
   "metadata": {},
   "outputs": [],
   "source": [
    "# from collections import defaultdict\n",
    "# def get_class_counts(data_loader):\n",
    "#     class_counts = defaultdict(int)\n",
    "    \n",
    "#     for data in data_loader:\n",
    "#         labels = data.y.cpu().numpy()\n",
    "#         for label in labels:\n",
    "#             class_counts[label] += 1\n",
    "    \n",
    "#     return class_counts"
   ]
  },
  {
   "cell_type": "code",
   "execution_count": 25,
   "metadata": {},
   "outputs": [],
   "source": [
    "# def get_class_weights(epoch, cls_num_list, betas):\n",
    "#     idx = epoch // 5\n",
    "#     effective_num = 1.0 - np.power(betas[idx], cls_num_list)\n",
    "#     per_cls_weights = (1.0 - betas[idx]) / np.array(effective_num)\n",
    "#     per_cls_weights = per_cls_weights / np.sum(per_cls_weights) * len(cls_num_list)\n",
    "#     return torch.FloatTensor(per_cls_weights).cuda()"
   ]
  },
  {
   "cell_type": "code",
   "execution_count": 26,
   "metadata": {},
   "outputs": [],
   "source": [
    "# train_class_counts = get_class_counts(train_loader)\n",
    "# cls_num_list = [train_class_counts[i] for i in range(len(train_class_counts))]\n",
    "# print(f\"Class counts in training data: {cls_num_list}\")\n",
    "# # ldam_loss = LDAMLoss(cls_num_list, s=10).to(device)\n",
    "# # total_samples = sum(cls_num_list)\n",
    "# # print(f\"Total class: {total_samples}\")\n",
    "# # class_weights = [total_samples / (len(cls_num_list) * count) for count in cls_num_list]\n",
    "# # class_weights = torch.FloatTensor(class_weights).to(device)\n"
   ]
  },
  {
   "cell_type": "code",
   "execution_count": 27,
   "metadata": {},
   "outputs": [],
   "source": [
    "# betas = [0, 0.9999, 0.9999, 0.9999, 0.9999, 0.9999, 0.9999, 0.9999]\n",
    "# ldam_loss = LDAMLoss(cls_num_list, s=30).to(device)"
   ]
  },
  {
   "cell_type": "code",
   "execution_count": 28,
   "metadata": {},
   "outputs": [],
   "source": [
    "# model = SimpleGNN(num_node_features=2, hidden_dim=32, num_classes=len(cls_num_list)).to(device)\n",
    "# optimizer = torch.optim.Adam(model.parameters(), lr=0.001)"
   ]
  },
  {
   "cell_type": "code",
   "execution_count": 29,
   "metadata": {},
   "outputs": [],
   "source": [
    "# num_node_features = 2\n",
    "hidden_dim = 32\n",
    "num_classes = 4\n",
    "gcn = SimpleGNN(num_node_features=2, hidden_dim=hidden_dim)\n",
    "cnn = SimpleCNN(input_channels=1, num_classes=num_classes)\n",
    "combined_model = CombinedModel(gcn, cnn, hidden_dim, num_classes).to(device)\n",
    "optimizer = torch.optim.Adam(combined_model.parameters(), lr=0.001)"
   ]
  },
  {
   "cell_type": "code",
   "execution_count": 30,
   "metadata": {},
   "outputs": [],
   "source": [
    "# def train():\n",
    "#     model.train()\n",
    "#     total_loss = 0\n",
    "#     correct = 0\n",
    "#     video_outputs = {}\n",
    "#     video_labels = {}\n",
    "\n",
    "#     for data in train_loader:\n",
    "#         data = data.to(device)\n",
    "#         optimizer.zero_grad()\n",
    "#         out = model(data)\n",
    "#         loss = ldam_loss(out, data.y)\n",
    "#         loss.backward()\n",
    "#         optimizer.step()\n",
    "#         total_loss += loss.item()\n",
    "\n",
    "#         preds = out.argmax(dim=1).cpu().numpy()\n",
    "#         labels = data.y.cpu().numpy()\n",
    "\n",
    "#         # Aggregate predictions by video filename\n",
    "#         for filename, pred, label in zip(data.filename, preds, labels):\n",
    "#             if filename not in video_outputs:\n",
    "#                 video_outputs[filename] = []\n",
    "#                 video_labels[filename] = label\n",
    "#             video_outputs[filename].append(pred)\n",
    "\n",
    "#     # Calculate video-level accuracy\n",
    "#     video_correct = 0\n",
    "#     for filename in video_outputs:\n",
    "#         # Sum confidence scores for each class\n",
    "#         confidences = np.zeros(model.fc2.out_features)\n",
    "#         for pred in video_outputs[filename]:\n",
    "#             confidences[pred] += 1\n",
    "#         # Choose the class with the highest confidence score\n",
    "#         video_prediction = np.argmax(confidences)\n",
    "#         if video_prediction == video_labels[filename]:\n",
    "#             video_correct += 1\n",
    "\n",
    "#     video_accuracy = video_correct / len(video_outputs)\n",
    "#     return total_loss / len(train_loader), video_accuracy"
   ]
  },
  {
   "cell_type": "code",
   "execution_count": 31,
   "metadata": {},
   "outputs": [],
   "source": [
    "# def train_combined(epoch):\n",
    "#     combined_model.train()\n",
    "#     total_loss = 0\n",
    "#     video_outputs = {}\n",
    "#     video_labels = {}\n",
    "\n",
    "#     per_cls_weights = get_class_weights(epoch, cls_num_list, betas)\n",
    "\n",
    "#     for (gcn_data, cnn_data) in zip(train_loader, train_au_loader):\n",
    "#         gcn_data = gcn_data.to(device)\n",
    "#         cnn_data = cnn_data[0].to(device)  # cnn_data is a tuple (features, labels), we need only features\n",
    "#         optimizer.zero_grad()\n",
    "#         out = combined_model(gcn_data, cnn_data)\n",
    "\n",
    "#         loss = ldam_loss(out, gcn_data.y, weight=per_cls_weights)\n",
    "#         loss.backward()\n",
    "#         optimizer.step()\n",
    "#         total_loss += loss.item()\n",
    "\n",
    "#         preds = out.argmax(dim=1).cpu().numpy()\n",
    "#         labels = gcn_data.y.cpu().numpy()\n",
    "\n",
    "#         for filename, pred, label in zip(gcn_data.filename, preds, labels):\n",
    "#             if filename not in video_outputs:\n",
    "#                 video_outputs[filename] = []\n",
    "#                 video_labels[filename] = label\n",
    "#             video_outputs[filename].append(pred)\n",
    "\n",
    "#     video_correct = 0\n",
    "#     for filename in video_outputs:\n",
    "#         confidences = np.zeros(combined_model.fc_combined.out_features)\n",
    "#         for pred in video_outputs[filename]:\n",
    "#             confidences[pred] += 1\n",
    "#         video_prediction = np.argmax(confidences)\n",
    "#         if video_prediction == video_labels[filename]:\n",
    "#             video_correct += 1\n",
    "\n",
    "#     video_accuracy = video_correct / len(video_outputs)\n",
    "#     return total_loss / len(train_loader), video_accuracy\n"
   ]
  },
  {
   "cell_type": "code",
   "execution_count": 32,
   "metadata": {},
   "outputs": [],
   "source": [
    "def train_combined():\n",
    "    combined_model.train()\n",
    "    total_loss = 0\n",
    "    video_outputs = {}\n",
    "    video_labels = {}\n",
    "\n",
    "    for gcn_data, (cnn_features, cnn_labels, cnn_filenames) in zip(train_loader, train_au_loader):\n",
    "        gcn_data = gcn_data.to(device)\n",
    "        gcn_labels = gcn_data.y.to(device)\n",
    "        gcn_filenames = gcn_data.filename\n",
    "\n",
    "        cnn_features = cnn_features.to(device)\n",
    "\n",
    "        optimizer.zero_grad()\n",
    "        out = combined_model(gcn_data, cnn_features)\n",
    "\n",
    "        loss = F.cross_entropy(out, gcn_labels)\n",
    "        loss.backward()\n",
    "        optimizer.step()\n",
    "        total_loss += loss.item()\n",
    "\n",
    "        softmax_out = out.softmax(dim=1).detach().cpu().numpy()\n",
    "        labels = gcn_labels.cpu().numpy()\n",
    "\n",
    "        for filename, pred, label in zip(gcn_filenames, softmax_out, labels):\n",
    "            video_id = filename.split('_')[0]\n",
    "            if video_id not in video_outputs:\n",
    "                video_outputs[video_id] = np.zeros(pred.shape)\n",
    "                video_labels[video_id] = label\n",
    "            video_outputs[video_id] += pred\n",
    "\n",
    "    video_correct = 0\n",
    "    for video_id in video_outputs:\n",
    "        video_prediction = np.argmax(video_outputs[video_id])\n",
    "        if video_prediction == video_labels[video_id]:\n",
    "            video_correct += 1\n",
    "            \n",
    "    video_accuracy = video_correct / len(video_outputs)\n",
    "    return total_loss / len(train_loader), video_accuracy\n"
   ]
  },
  {
   "cell_type": "code",
   "execution_count": 33,
   "metadata": {},
   "outputs": [],
   "source": [
    "# def evaluate(loader):\n",
    "#     model.eval()\n",
    "#     total_loss = 0\n",
    "#     video_outputs = {}\n",
    "#     video_labels = {}\n",
    "\n",
    "#     with torch.no_grad():\n",
    "#         for data in loader:\n",
    "#             data = data.to(device)\n",
    "#             out = model(data)\n",
    "#             loss = ldam_loss(out, data.y)\n",
    "#             total_loss += loss.item()\n",
    "\n",
    "#             # Use log-softmax output for summing confidence scores\n",
    "#             softmax_out = out.exp()\n",
    "#             labels = data.y.cpu().numpy()\n",
    "\n",
    "#             # Aggregate predictions by video filename\n",
    "#             for filename, pred, label in zip(data.filename, softmax_out, labels):\n",
    "#                 if filename not in video_outputs:\n",
    "#                     video_outputs[filename] = np.zeros(pred.shape)\n",
    "#                     video_labels[filename] = label\n",
    "#                 video_outputs[filename] += pred.cpu().numpy()\n",
    "\n",
    "#     # Calculate video-level accuracy\n",
    "#     video_correct = 0\n",
    "#     for filename in video_outputs:\n",
    "#         # Choose the class with the highest summed confidence score\n",
    "#         video_prediction = np.argmax(video_outputs[filename])\n",
    "#         if video_prediction == video_labels[filename]:\n",
    "#             video_correct += 1\n",
    "\n",
    "#     video_accuracy = video_correct / len(video_outputs)\n",
    "#     return total_loss / len(loader), video_accuracy"
   ]
  },
  {
   "cell_type": "code",
   "execution_count": 34,
   "metadata": {},
   "outputs": [],
   "source": [
    "# def evaluate_combined(loader, epoch):\n",
    "#     combined_model.eval()\n",
    "#     total_loss = 0\n",
    "#     video_outputs = {}\n",
    "#     video_labels = {}\n",
    "\n",
    "#     per_cls_weights = get_class_weights(epoch, cls_num_list, betas)\n",
    "\n",
    "#     with torch.no_grad():\n",
    "#         for (gcn_data, cnn_data) in zip(loader[0], loader[1]):\n",
    "#             gcn_data = gcn_data.to(device)\n",
    "#             cnn_data = cnn_data[0].to(device)  # cnn_data is a tuple (features, labels), we need only features\n",
    "#             out = combined_model(gcn_data, cnn_data)\n",
    "#             loss = ldam_loss(out, gcn_data.y, weight=per_cls_weights)\n",
    "#             total_loss += loss.item()\n",
    "\n",
    "#             softmax_out = out.exp()\n",
    "#             labels = gcn_data.y.cpu().numpy()\n",
    "\n",
    "#             for filename, pred, label in zip(gcn_data.filename, softmax_out, labels):\n",
    "#                 if filename not in video_outputs:\n",
    "#                     video_outputs[filename] = np.zeros(pred.shape)\n",
    "#                     video_labels[filename] = label\n",
    "#                 video_outputs[filename] += pred.cpu().numpy()\n",
    "\n",
    "#     video_correct = 0\n",
    "#     for filename in video_outputs:\n",
    "#         video_prediction = np.argmax(video_outputs[filename])\n",
    "#         if video_prediction == video_labels[filename]:\n",
    "#             video_correct += 1\n",
    "\n",
    "#     video_accuracy = video_correct / len(video_outputs)\n",
    "#     return total_loss / len(loader[0]), video_accuracy\n"
   ]
  },
  {
   "cell_type": "code",
   "execution_count": 35,
   "metadata": {},
   "outputs": [],
   "source": [
    "def evaluate_combined(loader):\n",
    "    combined_model.eval()\n",
    "    total_loss = 0\n",
    "    video_outputs = {}\n",
    "    video_labels = {}\n",
    "\n",
    "\n",
    "    with torch.no_grad():\n",
    "        for gcn_data, (cnn_features, cnn_labels, cnn_filenames) in zip(loader[0], loader[1]):\n",
    "            gcn_data = gcn_data.to(device)\n",
    "            gcn_labels = gcn_data.y.to(device)\n",
    "            gcn_filenames = gcn_data.filename\n",
    "\n",
    "            cnn_features = cnn_features.to(device)\n",
    "            \n",
    "            out = combined_model(gcn_data, cnn_features)\n",
    "            loss = F.cross_entropy(out, gcn_labels)\n",
    "            total_loss += loss.item()\n",
    "\n",
    "            softmax_out = out.softmax(dim=1).detach().cpu().numpy()  # Convert to probabilities\n",
    "            labels = gcn_labels.cpu().numpy()\n",
    "\n",
    "            for filename, pred, label in zip(gcn_filenames, softmax_out, labels):\n",
    "                video_id = filename.split('_')[0]  # Extract video ID from filename\n",
    "                if video_id not in video_outputs:\n",
    "                    video_outputs[video_id] = np.zeros(pred.shape)\n",
    "                    video_labels[video_id] = label\n",
    "                video_outputs[video_id] += pred\n",
    "\n",
    "    video_correct = 0\n",
    "    for video_id in video_outputs:\n",
    "        video_prediction = np.argmax(video_outputs[video_id])\n",
    "        if video_prediction == video_labels[video_id]:\n",
    "            video_correct += 1\n",
    "\n",
    "    video_accuracy = video_correct / len(video_outputs)\n",
    "    return total_loss / len(loader[0]), video_accuracy"
   ]
  },
  {
   "cell_type": "code",
   "execution_count": 36,
   "metadata": {},
   "outputs": [
    {
     "name": "stderr",
     "output_type": "stream",
     "text": [
      "/opt/conda/lib/python3.10/site-packages/torch_geometric/warnings.py:11: UserWarning: The usage of `scatter(reduce='max')` can be accelerated via the 'torch-scatter' package, but it was not found\n",
      "  warnings.warn(message)\n"
     ]
    },
    {
     "name": "stdout",
     "output_type": "stream",
     "text": [
      "Epoch 1, Train Loss: 0.7181, Train Accuracy: 0.6902, Val Loss: 1.1844, Val Accuracy: 0.4869\n",
      "Epoch 2, Train Loss: 0.6478, Train Accuracy: 0.7467, Val Loss: 1.2328, Val Accuracy: 0.4786\n",
      "Epoch 3, Train Loss: 0.6136, Train Accuracy: 0.7788, Val Loss: 1.2783, Val Accuracy: 0.4804\n",
      "Epoch 4, Train Loss: 0.5897, Train Accuracy: 0.8055, Val Loss: 1.3038, Val Accuracy: 0.4750\n",
      "Epoch 5, Train Loss: 0.5719, Train Accuracy: 0.8202, Val Loss: 1.3419, Val Accuracy: 0.4696\n",
      "Epoch 6, Train Loss: 0.5579, Train Accuracy: 0.8346, Val Loss: 1.3791, Val Accuracy: 0.4655\n",
      "Epoch 7, Train Loss: 0.5463, Train Accuracy: 0.8462, Val Loss: 1.3858, Val Accuracy: 0.4702\n",
      "Epoch 8, Train Loss: 0.5370, Train Accuracy: 0.8526, Val Loss: 1.5114, Val Accuracy: 0.4702\n",
      "Epoch 9, Train Loss: 0.5292, Train Accuracy: 0.8611, Val Loss: 1.4341, Val Accuracy: 0.4810\n",
      "Epoch 10, Train Loss: 0.5223, Train Accuracy: 0.8664, Val Loss: 1.6300, Val Accuracy: 0.4774\n",
      "best val acc: 0.4869047619047619\n"
     ]
    }
   ],
   "source": [
    "num_epochs = 10\n",
    "train_losses = []\n",
    "val_losses = []\n",
    "train_accuracies = []\n",
    "val_accuracies = []\n",
    "best_val_accuracy = 0.0\n",
    "best_model_weights = None\n",
    "\n",
    "for epoch in range(num_epochs):\n",
    "    train_loss, train_accuracy = train_combined()\n",
    "    val_loss, val_accuracy = evaluate_combined((val_loader, val_au_loader))\n",
    "    train_losses.append(train_loss)\n",
    "    val_losses.append(val_loss)\n",
    "    train_accuracies.append(train_accuracy)\n",
    "    val_accuracies.append(val_accuracy)\n",
    "    \n",
    "    if val_accuracy > best_val_accuracy:\n",
    "        best_val_accuracy = val_accuracy\n",
    "        best_model_weights = combined_model.state_dict()\n",
    "    \n",
    "    print(f'Epoch {epoch+1}, Train Loss: {train_loss:.4f}, Train Accuracy: {train_accuracy:.4f}, Val Loss: {val_loss:.4f}, Val Accuracy: {val_accuracy:.4f}')\n",
    "print(f\"best val acc: {best_val_accuracy}\")\n",
    "torch.save(best_model_weights, '2combined_model_sequence_.pth')\n"
   ]
  },
  {
   "cell_type": "code",
   "execution_count": 37,
   "metadata": {},
   "outputs": [
    {
     "data": {
      "image/png": "[encoded data removed]",
      "text/plain": [
       "<Figure size 432x288 with 1 Axes>"
      ]
     },
     "metadata": {
      "needs_background": "light"
     },
     "output_type": "display_data"
    },
    {
     "data": {
      "image/png": "[encoded data removed]",
      "text/plain": [
       "<Figure size 432x288 with 1 Axes>"
      ]
     },
     "metadata": {
      "needs_background": "light"
     },
     "output_type": "display_data"
    }
   ],
   "source": [
    "acc = train_accuracies\n",
    "val_acc = val_accuracies\n",
    "loss = train_losses\n",
    "val_loss = val_losses\n",
    "\n",
    "epochs = range(len(acc))                                                                                                                                                                                                                                                                                                                    \n",
    "\n",
    "plt.plot(epochs, acc, 'r', label='Training accuracy')\n",
    "plt.plot(epochs, val_acc, 'b', label='Validation accuracy')\n",
    "plt.title('Training and validation accuracy')\n",
    "plt.legend()\n",
    "plt.figure()\n",
    "\n",
    "plt.plot(epochs, loss, 'r', label='Training Loss')\n",
    "plt.plot(epochs, val_loss, 'b', label='Validation Loss')\n",
    "plt.title('Training and validation loss')\n",
    "plt.legend()\n",
    "\n",
    "plt.show()"
   ]
  },
  {
   "cell_type": "code",
   "execution_count": 38,
   "metadata": {},
   "outputs": [
    {
     "data": {
      "text/plain": [
       "<All keys matched successfully>"
      ]
     },
     "execution_count": 38,
     "metadata": {},
     "output_type": "execute_result"
    }
   ],
   "source": [
    "combined_model.load_state_dict(torch.load('2combined_model_sequence_.pth'))"
   ]
  },
  {
   "cell_type": "code",
   "execution_count": 39,
   "metadata": {},
   "outputs": [],
   "source": [
    "# test_data = create_delaunay_graph_data(test_df, test_labels)\n",
    "\n",
    "# for i, data in enumerate(test_data):\n",
    "#     data.filename = test_filenames[i]"
   ]
  },
  {
   "cell_type": "code",
   "execution_count": 40,
   "metadata": {},
   "outputs": [],
   "source": [
    "# test_loader = DataLoader(test_data, batch_size=32)"
   ]
  },
  {
   "cell_type": "code",
   "execution_count": 41,
   "metadata": {},
   "outputs": [
    {
     "name": "stdout",
     "output_type": "stream",
     "text": [
      "0.5089686098654709\n"
     ]
    }
   ],
   "source": [
    "from sklearn.metrics import classification_report, confusion_matrix\n",
    "import seaborn as sns\n",
    "def test_combined(gcn_loader, cnn_loader):\n",
    "    combined_model.eval()\n",
    "    video_outputs = {}\n",
    "    video_labels = {}\n",
    "\n",
    "    with torch.no_grad():\n",
    "        for gcn_data, (cnn_features, cnn_labels, cnn_filenames) in zip(gcn_loader, cnn_loader):\n",
    "            gcn_data = gcn_data.to(device)\n",
    "            gcn_filenames = gcn_data.filename\n",
    "            cnn_features = cnn_features.to(device)\n",
    "\n",
    "            out = combined_model(gcn_data, cnn_features)\n",
    "            softmax_out = out.softmax(dim=1).detach().cpu().numpy()  # Convert to probabilities and detach\n",
    "            labels = gcn_data.y.cpu().numpy()\n",
    "\n",
    "            # Aggregate predictions by video filename\n",
    "            for filename, pred, label in zip(gcn_filenames, softmax_out, labels):\n",
    "                video_id = filename.split('_')[0]  # Assuming filename format is `videoid_framenumber.jpg`\n",
    "                if video_id not in video_outputs:\n",
    "                    video_outputs[video_id] = np.zeros(pred.shape)\n",
    "                    video_labels[video_id] = label\n",
    "                video_outputs[video_id] += pred\n",
    "\n",
    "    # Calculate video-level predictions\n",
    "    final_preds = []\n",
    "    final_labels = []\n",
    "\n",
    "    for video_id in video_outputs:\n",
    "        # Choose the class with the highest summed confidence score\n",
    "        video_prediction = np.argmax(video_outputs[video_id])\n",
    "        final_preds.append(video_prediction)\n",
    "        final_labels.append(video_labels[video_id])\n",
    "\n",
    "    return np.array(final_preds), np.array(final_labels)\n",
    "\n",
    "test_preds, test_true = test_combined(test_loader, test_au_loader)\n",
    "test_accuracy = np.sum(test_preds == test_true) / len(test_true)\n",
    "print(test_accuracy)\n",
    "# Ensure both loaders are synchronized"
   ]
  },
  {
   "cell_type": "code",
   "execution_count": 42,
   "metadata": {},
   "outputs": [
    {
     "name": "stdout",
     "output_type": "stream",
     "text": [
      "\n",
      "Classification Report:\n",
      "               precision    recall  f1-score   support\n",
      "\n",
      "           0       0.00      0.00      0.00         4\n",
      "           1       0.50      0.01      0.02        84\n",
      "           2       0.51      0.80      0.62       900\n",
      "           3       0.50      0.24      0.32       796\n",
      "\n",
      "    accuracy                           0.51      1784\n",
      "   macro avg       0.38      0.26      0.24      1784\n",
      "weighted avg       0.50      0.51      0.46      1784\n",
      "\n"
     ]
    }
   ],
   "source": [
    "report =  classification_report(test_true, test_preds ,target_names=[str(i) for i in range(num_classes)],zero_division=0)\n",
    "print(\"\\nClassification Report:\\n\", report)"
   ]
  },
  {
   "cell_type": "code",
   "execution_count": 43,
   "metadata": {},
   "outputs": [
    {
     "data": {
      "image/png": "[encoded data removed]",
      "text/plain": [
       "<Figure size 720x576 with 2 Axes>"
      ]
     },
     "metadata": {
      "needs_background": "light"
     },
     "output_type": "display_data"
    }
   ],
   "source": [
    "conf_matrix = confusion_matrix(test_true, test_preds)\n",
    "\n",
    "# Plot confusion matrix\n",
    "plt.figure(figsize=(10, 8))\n",
    "sns.heatmap(conf_matrix, annot=True, fmt=\"d\", cmap=\"Blues\", xticklabels=np.unique(test_true), yticklabels=np.unique(test_true))\n",
    "plt.xlabel('Predicted Labels')\n",
    "plt.ylabel('True Labels')\n",
    "plt.title('Confusion Matrix')\n",
    "plt.show()"
   ]
  }
 ],
 "metadata": {
  "kaggle": {
   "accelerator": "nvidiaTeslaT4",
   "dataSources": [
    {
     "datasetId": 5096860,
     "sourceId": 8846191,
     "sourceType": "datasetVersion"
    }
   ],
   "dockerImageVersionId": 30733,
   "isGpuEnabled": true,
   "isInternetEnabled": true,
   "language": "python",
   "sourceType": "notebook"
  },
  "kernelspec": {
   "display_name": "base",
   "language": "python",
   "name": "base"
  },
  "language_info": {
   "codemirror_mode": {
    "name": "ipython",
    "version": 3
   },
   "file_extension": ".py",
   "mimetype": "text/x-python",
   "name": "python",
   "nbconvert_exporter": "python",
   "pygments_lexer": "ipython3",
   "version": "3.10.4"
  }
 },
 "nbformat": 4,
 "nbformat_minor": 4
}
