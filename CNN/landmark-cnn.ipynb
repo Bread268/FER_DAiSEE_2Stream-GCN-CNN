{
 "cells": [
  {
   "cell_type": "code",
   "execution_count": 1,
   "id": "972f5a0b",
   "metadata": {
    "execution": {
     "iopub.execute_input": "2024-07-19T06:06:12.348029Z",
     "iopub.status.busy": "2024-07-19T06:06:12.347137Z",
     "iopub.status.idle": "2024-07-19T06:06:18.208911Z",
     "shell.execute_reply": "2024-07-19T06:06:18.207872Z"
    },
    "papermill": {
     "duration": 5.872791,
     "end_time": "2024-07-19T06:06:18.211852",
     "exception": false,
     "start_time": "2024-07-19T06:06:12.339061",
     "status": "completed"
    },
    "tags": []
   },
   "outputs": [],
   "source": [
    "import os\n",
    "import matplotlib.pyplot as plt\n",
    "import pandas as pd\n",
    "import numpy as np\n",
    "import torch\n",
    "import torch.nn as nn\n",
    "import torch.optim as optim\n",
    "import torch.nn.functional as F\n",
    "from torch.utils.data import TensorDataset\n",
    "from torch.utils.data import DataLoader\n",
    "from sklearn.preprocessing import MinMaxScaler\n",
    "import seaborn as sns"
   ]
  },
  {
   "cell_type": "code",
   "execution_count": 2,
   "id": "ddb84f10",
   "metadata": {
    "execution": {
     "iopub.execute_input": "2024-07-19T06:06:18.230088Z",
     "iopub.status.busy": "2024-07-19T06:06:18.229113Z",
     "iopub.status.idle": "2024-07-19T06:08:35.187902Z",
     "shell.execute_reply": "2024-07-19T06:08:35.186579Z"
    },
    "papermill": {
     "duration": 136.969603,
     "end_time": "2024-07-19T06:08:35.190423",
     "exception": false,
     "start_time": "2024-07-19T06:06:18.220820",
     "status": "completed"
    },
    "tags": []
   },
   "outputs": [],
   "source": [
    "train_df = pd.read_csv(\"/kaggle/input/landmarkengagement-v3b/TrainEngagement_v3b.csv\")\n",
    "val_df = pd.read_csv(\"/kaggle/input/landmarkengagement-v3b/ValEngagement_v3b.csv\")\n",
    "test_df = pd.read_csv(\"/kaggle/input/landmarkengagement-v3b/TestEngagement_v3b.csv\")"
   ]
  },
  {
   "cell_type": "code",
   "execution_count": 3,
   "id": "6f45f94b",
   "metadata": {
    "execution": {
     "iopub.execute_input": "2024-07-19T06:08:35.205151Z",
     "iopub.status.busy": "2024-07-19T06:08:35.204413Z",
     "iopub.status.idle": "2024-07-19T06:08:42.985632Z",
     "shell.execute_reply": "2024-07-19T06:08:42.984583Z"
    },
    "papermill": {
     "duration": 7.790804,
     "end_time": "2024-07-19T06:08:42.988042",
     "exception": false,
     "start_time": "2024-07-19T06:08:35.197238",
     "status": "completed"
    },
    "tags": []
   },
   "outputs": [],
   "source": [
    "#GCN data\n",
    "train_filenames = train_df['file_name'].str.split('_').str[0].values\n",
    "train_labels = train_df['labels'].values\n",
    "train_df = train_df.drop(columns=['file_name', 'labels']).values\n",
    "\n",
    "val_filenames = val_df['file_name'].str.split('_').str[0].values\n",
    "val_labels = val_df['labels'].values\n",
    "val_df = val_df.drop(columns=['file_name', 'labels']).values\n",
    "\n",
    "test_filenames = test_df['file_name'].str.split('_').str[0].values\n",
    "test_labels = test_df['labels'].values\n",
    "test_df = test_df.drop(columns=['file_name', 'labels']).values"
   ]
  },
  {
   "cell_type": "code",
   "execution_count": 4,
   "id": "c7772055",
   "metadata": {
    "execution": {
     "iopub.execute_input": "2024-07-19T06:08:43.002205Z",
     "iopub.status.busy": "2024-07-19T06:08:43.001485Z",
     "iopub.status.idle": "2024-07-19T06:08:45.295479Z",
     "shell.execute_reply": "2024-07-19T06:08:45.294577Z"
    },
    "papermill": {
     "duration": 2.304209,
     "end_time": "2024-07-19T06:08:45.298623",
     "exception": false,
     "start_time": "2024-07-19T06:08:42.994414",
     "status": "completed"
    },
    "tags": []
   },
   "outputs": [],
   "source": [
    "minmax_scaler = MinMaxScaler()\n",
    "train_df = minmax_scaler.fit_transform(train_df)\n",
    "val_df = minmax_scaler.transform(val_df)\n",
    "test_df = minmax_scaler.transform(test_df)"
   ]
  },
  {
   "cell_type": "code",
   "execution_count": 5,
   "id": "eccb618a",
   "metadata": {
    "execution": {
     "iopub.execute_input": "2024-07-19T06:08:45.312477Z",
     "iopub.status.busy": "2024-07-19T06:08:45.312116Z",
     "iopub.status.idle": "2024-07-19T06:08:45.347115Z",
     "shell.execute_reply": "2024-07-19T06:08:45.346097Z"
    },
    "papermill": {
     "duration": 0.044487,
     "end_time": "2024-07-19T06:08:45.349476",
     "exception": false,
     "start_time": "2024-07-19T06:08:45.304989",
     "status": "completed"
    },
    "tags": []
   },
   "outputs": [],
   "source": [
    "train_labels = torch.tensor(train_labels, dtype=torch.long)\n",
    "val_labels = torch.tensor(val_labels, dtype=torch.long)\n",
    "test_labels = torch.tensor(test_labels, dtype=torch.long)"
   ]
  },
  {
   "cell_type": "code",
   "execution_count": 6,
   "id": "c27da521",
   "metadata": {
    "execution": {
     "iopub.execute_input": "2024-07-19T06:08:45.363376Z",
     "iopub.status.busy": "2024-07-19T06:08:45.362826Z",
     "iopub.status.idle": "2024-07-19T06:08:45.967164Z",
     "shell.execute_reply": "2024-07-19T06:08:45.966042Z"
    },
    "papermill": {
     "duration": 0.615463,
     "end_time": "2024-07-19T06:08:45.971009",
     "exception": false,
     "start_time": "2024-07-19T06:08:45.355546",
     "status": "completed"
    },
    "tags": []
   },
   "outputs": [],
   "source": [
    "train_df = torch.tensor(train_df, dtype=torch.float32).unsqueeze(1)\n",
    "val_df = torch.tensor(val_df, dtype=torch.float32).unsqueeze(1)\n",
    "test_df = torch.tensor(test_df, dtype=torch.float32).unsqueeze(1)"
   ]
  },
  {
   "cell_type": "code",
   "execution_count": 7,
   "id": "13f165e6",
   "metadata": {
    "execution": {
     "iopub.execute_input": "2024-07-19T06:08:45.986781Z",
     "iopub.status.busy": "2024-07-19T06:08:45.985934Z",
     "iopub.status.idle": "2024-07-19T06:08:46.038434Z",
     "shell.execute_reply": "2024-07-19T06:08:46.037378Z"
    },
    "papermill": {
     "duration": 0.062019,
     "end_time": "2024-07-19T06:08:46.040678",
     "exception": false,
     "start_time": "2024-07-19T06:08:45.978659",
     "status": "completed"
    },
    "tags": []
   },
   "outputs": [],
   "source": [
    "from torch.utils.data import Dataset\n",
    "\n",
    "class CustomDataset(Dataset):\n",
    "    def __init__(self, features, labels, filenames):\n",
    "        self.features = features\n",
    "        self.labels = labels\n",
    "        self.filenames = filenames\n",
    "\n",
    "    def __len__(self):\n",
    "        return len(self.features)\n",
    "\n",
    "    def __getitem__(self, idx):\n",
    "        feature = self.features[idx]\n",
    "        label = self.labels[idx]\n",
    "        filename = self.filenames[idx]\n",
    "        return feature, label, filename"
   ]
  },
  {
   "cell_type": "code",
   "execution_count": 8,
   "id": "089af9bd",
   "metadata": {
    "execution": {
     "iopub.execute_input": "2024-07-19T06:08:46.055135Z",
     "iopub.status.busy": "2024-07-19T06:08:46.054334Z",
     "iopub.status.idle": "2024-07-19T06:08:46.059286Z",
     "shell.execute_reply": "2024-07-19T06:08:46.058350Z"
    },
    "papermill": {
     "duration": 0.01439,
     "end_time": "2024-07-19T06:08:46.061332",
     "exception": false,
     "start_time": "2024-07-19T06:08:46.046942",
     "status": "completed"
    },
    "tags": []
   },
   "outputs": [],
   "source": [
    "train_dataset = CustomDataset(train_df, train_labels, train_filenames)\n",
    "val_dataset = CustomDataset(val_df, val_labels, val_filenames)\n",
    "test_dataset = CustomDataset(test_df, test_labels, test_filenames)"
   ]
  },
  {
   "cell_type": "code",
   "execution_count": 9,
   "id": "ac5817fe",
   "metadata": {
    "execution": {
     "iopub.execute_input": "2024-07-19T06:08:46.074849Z",
     "iopub.status.busy": "2024-07-19T06:08:46.074565Z",
     "iopub.status.idle": "2024-07-19T06:08:46.079664Z",
     "shell.execute_reply": "2024-07-19T06:08:46.078758Z"
    },
    "papermill": {
     "duration": 0.013841,
     "end_time": "2024-07-19T06:08:46.081455",
     "exception": false,
     "start_time": "2024-07-19T06:08:46.067614",
     "status": "completed"
    },
    "tags": []
   },
   "outputs": [],
   "source": [
    "train_loader = DataLoader(train_dataset, batch_size=32, shuffle=True)\n",
    "val_loader = DataLoader(val_dataset, batch_size=32, shuffle=False)\n",
    "test_loader = DataLoader(test_dataset, batch_size=32, shuffle=False)"
   ]
  },
  {
   "cell_type": "code",
   "execution_count": 10,
   "id": "a86f76f7",
   "metadata": {
    "execution": {
     "iopub.execute_input": "2024-07-19T06:08:46.095159Z",
     "iopub.status.busy": "2024-07-19T06:08:46.094848Z",
     "iopub.status.idle": "2024-07-19T06:08:46.195813Z",
     "shell.execute_reply": "2024-07-19T06:08:46.194705Z"
    },
    "papermill": {
     "duration": 0.110308,
     "end_time": "2024-07-19T06:08:46.197936",
     "exception": false,
     "start_time": "2024-07-19T06:08:46.087628",
     "status": "completed"
    },
    "tags": []
   },
   "outputs": [
    {
     "name": "stdout",
     "output_type": "stream",
     "text": [
      "cuda\n"
     ]
    }
   ],
   "source": [
    "class Simple1DCNN(nn.Module):\n",
    "    def __init__(self, num_features, hidden_dim, num_classes):\n",
    "        super(Simple1DCNN, self).__init__()\n",
    "        self.conv1 = nn.Conv1d(in_channels=1, out_channels=hidden_dim, kernel_size=3, padding=1)\n",
    "        self.bn1 = nn.BatchNorm1d(hidden_dim)\n",
    "        self.conv2 = nn.Conv1d(in_channels=hidden_dim, out_channels=hidden_dim * 2, kernel_size=3, padding=1)\n",
    "        self.bn2 = nn.BatchNorm1d(hidden_dim * 2)\n",
    "        self.pool = nn.MaxPool1d(kernel_size=2, stride=2)\n",
    "        self.fc1 = nn.Linear(4352, hidden_dim)\n",
    "        self.fc2 = nn.Linear(hidden_dim, num_classes)\n",
    "    \n",
    "    def forward(self, x):\n",
    "        x = self.conv1(x)\n",
    "        x = self.bn1(x)\n",
    "        x = F.relu(x)\n",
    "        x = self.conv2(x)\n",
    "        x = self.bn2(x)\n",
    "        x = F.relu(x)\n",
    "        x = self.pool(x)\n",
    "        x = x.view(x.size(0), -1)\n",
    "        x = self.fc1(x)\n",
    "        x = F.relu(x)\n",
    "        x = self.fc2(x)\n",
    "        return x\n",
    "\n",
    "\n",
    "device = torch.device('cuda' if torch.cuda.is_available() else 'cpu')\n",
    "print(device)"
   ]
  },
  {
   "cell_type": "code",
   "execution_count": 11,
   "id": "141145a6",
   "metadata": {
    "execution": {
     "iopub.execute_input": "2024-07-19T06:08:46.212488Z",
     "iopub.status.busy": "2024-07-19T06:08:46.211916Z",
     "iopub.status.idle": "2024-07-19T06:08:47.618494Z",
     "shell.execute_reply": "2024-07-19T06:08:47.617578Z"
    },
    "papermill": {
     "duration": 1.416376,
     "end_time": "2024-07-19T06:08:47.621000",
     "exception": false,
     "start_time": "2024-07-19T06:08:46.204624",
     "status": "completed"
    },
    "tags": []
   },
   "outputs": [
    {
     "name": "stdout",
     "output_type": "stream",
     "text": [
      "Simple1DCNN(\n",
      "  (conv1): Conv1d(1, 32, kernel_size=(3,), stride=(1,), padding=(1,))\n",
      "  (bn1): BatchNorm1d(32, eps=1e-05, momentum=0.1, affine=True, track_running_stats=True)\n",
      "  (conv2): Conv1d(32, 64, kernel_size=(3,), stride=(1,), padding=(1,))\n",
      "  (bn2): BatchNorm1d(64, eps=1e-05, momentum=0.1, affine=True, track_running_stats=True)\n",
      "  (pool): MaxPool1d(kernel_size=2, stride=2, padding=0, dilation=1, ceil_mode=False)\n",
      "  (fc1): Linear(in_features=4352, out_features=32, bias=True)\n",
      "  (fc2): Linear(in_features=32, out_features=4, bias=True)\n",
      ")\n"
     ]
    }
   ],
   "source": [
    "model = Simple1DCNN(num_features=136, hidden_dim=32, num_classes=4).to(device)\n",
    "print(model)\n",
    "optimizer = torch.optim.Adam(model.parameters(), lr=0.001)\n",
    "loss_fn = nn.CrossEntropyLoss()"
   ]
  },
  {
   "cell_type": "code",
   "execution_count": 12,
   "id": "47dbb169",
   "metadata": {
    "execution": {
     "iopub.execute_input": "2024-07-19T06:08:47.638244Z",
     "iopub.status.busy": "2024-07-19T06:08:47.637691Z",
     "iopub.status.idle": "2024-07-19T06:08:47.648695Z",
     "shell.execute_reply": "2024-07-19T06:08:47.647802Z"
    },
    "papermill": {
     "duration": 0.021709,
     "end_time": "2024-07-19T06:08:47.650824",
     "exception": false,
     "start_time": "2024-07-19T06:08:47.629115",
     "status": "completed"
    },
    "tags": []
   },
   "outputs": [],
   "source": [
    "def train(train_loader):\n",
    "    model.train()\n",
    "    video_outputs = {}\n",
    "    video_labels = {}\n",
    "    total_loss = 0\n",
    "    correct = 0\n",
    "\n",
    "    for data in train_loader:\n",
    "        cnn_features, cnn_labels, cnn_filenames = data\n",
    "        cnn_features = cnn_features.to(device)\n",
    "        cnn_labels = cnn_labels.to(device)\n",
    "\n",
    "        # Zero the parameter gradients\n",
    "        optimizer.zero_grad()\n",
    "\n",
    "        # Forward pass\n",
    "        outputs = model(cnn_features)\n",
    "        loss = loss_fn(outputs, cnn_labels)\n",
    "        total_loss += loss.item()\n",
    "\n",
    "        # Backward pass and optimization\n",
    "        loss.backward()\n",
    "        optimizer.step()\n",
    "\n",
    "        softmax_out = outputs.softmax(dim=1).detach().cpu().numpy()\n",
    "        labels = cnn_labels.cpu().numpy()\n",
    "\n",
    "        # Aggregate predictions by video filename\n",
    "        for filename, pred, label in zip(cnn_filenames, softmax_out, labels):\n",
    "            if filename not in video_outputs:\n",
    "                video_outputs[filename] = np.zeros(pred.shape)\n",
    "                video_labels[filename] = label\n",
    "            video_outputs[filename] += pred\n",
    "\n",
    "    # Calculate video-level predictions\n",
    "    final_preds = []\n",
    "    final_labels = []\n",
    "\n",
    "    for filename in video_outputs:\n",
    "        video_prediction = np.argmax(video_outputs[filename])\n",
    "        final_preds.append(video_prediction)\n",
    "        final_labels.append(video_labels[filename])\n",
    "\n",
    "    train_accuracy = np.sum(np.array(final_preds) == np.array(final_labels)) / len(final_labels)\n",
    "    train_loss = total_loss / len(train_loader.dataset)\n",
    "    return train_loss, train_accuracy\n"
   ]
  },
  {
   "cell_type": "code",
   "execution_count": 13,
   "id": "c0b52642",
   "metadata": {
    "execution": {
     "iopub.execute_input": "2024-07-19T06:08:47.665586Z",
     "iopub.status.busy": "2024-07-19T06:08:47.665216Z",
     "iopub.status.idle": "2024-07-19T06:08:47.675040Z",
     "shell.execute_reply": "2024-07-19T06:08:47.673986Z"
    },
    "papermill": {
     "duration": 0.01963,
     "end_time": "2024-07-19T06:08:47.677220",
     "exception": false,
     "start_time": "2024-07-19T06:08:47.657590",
     "status": "completed"
    },
    "tags": []
   },
   "outputs": [],
   "source": [
    "def evaluate(val_loader):\n",
    "    model.eval()\n",
    "    video_outputs = {}\n",
    "    video_labels = {}\n",
    "\n",
    "    val_loss = 0\n",
    "    with torch.no_grad():\n",
    "        for data in val_loader:\n",
    "            cnn_features, cnn_labels, cnn_filenames = data\n",
    "            cnn_features = cnn_features.to(device)\n",
    "            cnn_labels = cnn_labels.to(device)\n",
    "\n",
    "            outputs = model(cnn_features)\n",
    "            val_loss += loss_fn(outputs, cnn_labels).item()\n",
    "\n",
    "            softmax_out = outputs.softmax(dim=1).detach().cpu().numpy()\n",
    "            labels = cnn_labels.cpu().numpy()\n",
    "\n",
    "            # Aggregate predictions by video filename\n",
    "            for filename, pred, label in zip(cnn_filenames, softmax_out, labels):\n",
    "                if filename not in video_outputs:\n",
    "                    video_outputs[filename] = np.zeros(pred.shape)\n",
    "                    video_labels[filename] = label\n",
    "                video_outputs[filename] += pred\n",
    "\n",
    "    # Calculate video-level predictions\n",
    "    final_preds = []\n",
    "    final_labels = []\n",
    "\n",
    "    for filename in video_outputs:\n",
    "        video_prediction = np.argmax(video_outputs[filename])\n",
    "        final_preds.append(video_prediction)\n",
    "        final_labels.append(video_labels[filename])\n",
    "\n",
    "    val_accuracy = np.sum(np.array(final_preds) == np.array(final_labels)) / len(final_labels)\n",
    "    val_loss /= len(val_loader.dataset)\n",
    "    return val_loss, val_accuracy\n"
   ]
  },
  {
   "cell_type": "code",
   "execution_count": 14,
   "id": "f5a941d4",
   "metadata": {
    "execution": {
     "iopub.execute_input": "2024-07-19T06:08:47.691467Z",
     "iopub.status.busy": "2024-07-19T06:08:47.691134Z",
     "iopub.status.idle": "2024-07-19T06:37:18.985247Z",
     "shell.execute_reply": "2024-07-19T06:37:18.984030Z"
    },
    "papermill": {
     "duration": 1711.309967,
     "end_time": "2024-07-19T06:37:18.993779",
     "exception": false,
     "start_time": "2024-07-19T06:08:47.683812",
     "status": "completed"
    },
    "tags": []
   },
   "outputs": [
    {
     "name": "stdout",
     "output_type": "stream",
     "text": [
      "Epoch 1, Train Loss: 0.0229, Train Accuracy: 0.6659, Val Loss: 0.0398, Val Accuracy: 0.5036\n",
      "Epoch 2, Train Loss: 0.0210, Train Accuracy: 0.7027, Val Loss: 0.0458, Val Accuracy: 0.5042\n",
      "Epoch 3, Train Loss: 0.0200, Train Accuracy: 0.7230, Val Loss: 0.0512, Val Accuracy: 0.4851\n",
      "Epoch 4, Train Loss: 0.0194, Train Accuracy: 0.7373, Val Loss: 0.0553, Val Accuracy: 0.4982\n",
      "Epoch 5, Train Loss: 0.0188, Train Accuracy: 0.7501, Val Loss: 0.0601, Val Accuracy: 0.5089\n",
      "Epoch 6, Train Loss: 0.0184, Train Accuracy: 0.7609, Val Loss: 0.0609, Val Accuracy: 0.4661\n",
      "Epoch 7, Train Loss: 0.0181, Train Accuracy: 0.7694, Val Loss: 0.0612, Val Accuracy: 0.5018\n",
      "Epoch 8, Train Loss: 0.0178, Train Accuracy: 0.7814, Val Loss: 0.0676, Val Accuracy: 0.4756\n",
      "Epoch 9, Train Loss: 0.0175, Train Accuracy: 0.7878, Val Loss: 0.0654, Val Accuracy: 0.5060\n",
      "Epoch 10, Train Loss: 0.0173, Train Accuracy: 0.7918, Val Loss: 0.0711, Val Accuracy: 0.5024\n",
      "best val acc: 0.5089285714285714\n"
     ]
    }
   ],
   "source": [
    "num_epochs = 10\n",
    "train_losses = []\n",
    "val_losses = []\n",
    "train_accuracies = []\n",
    "val_accuracies = []\n",
    "best_val_accuracy = 0.0\n",
    "best_model_weights = None\n",
    "\n",
    "\n",
    "for epoch in range(num_epochs):\n",
    "    train_loss, train_accuracy = train(train_loader)\n",
    "    val_loss, val_accuracy = evaluate(val_loader)\n",
    "    train_losses.append(train_loss)\n",
    "    val_losses.append(val_loss)\n",
    "    train_accuracies.append(train_accuracy)\n",
    "    val_accuracies.append(val_accuracy)\n",
    "    \n",
    "    if val_accuracy > best_val_accuracy:\n",
    "        best_val_accuracy = val_accuracy\n",
    "        best_model_weights = model.state_dict()\n",
    "    \n",
    "    print(f'Epoch {epoch+1}, Train Loss: {train_loss:.4f}, Train Accuracy: {train_accuracy:.4f}, Val Loss: {val_loss:.4f}, Val Accuracy: {val_accuracy:.4f}')\n",
    "print(f\"best val acc: {best_val_accuracy}\")\n",
    "torch.save(best_model_weights, 'model_cnn_landmark.pth')\n"
   ]
  },
  {
   "cell_type": "code",
   "execution_count": 15,
   "id": "017b7176",
   "metadata": {
    "execution": {
     "iopub.execute_input": "2024-07-19T06:37:19.008808Z",
     "iopub.status.busy": "2024-07-19T06:37:19.008493Z",
     "iopub.status.idle": "2024-07-19T06:37:19.552647Z",
     "shell.execute_reply": "2024-07-19T06:37:19.551784Z"
    },
    "papermill": {
     "duration": 0.55393,
     "end_time": "2024-07-19T06:37:19.554479",
     "exception": false,
     "start_time": "2024-07-19T06:37:19.000549",
     "status": "completed"
    },
    "tags": []
   },
   "outputs": [
    {
     "data": {
      "image/png": "[encoded data removed]",
      "text/plain": [
       "<Figure size 640x480 with 1 Axes>"
      ]
     },
     "metadata": {},
     "output_type": "display_data"
    },
    {
     "data": {
      "image/png": "[encoded data removed]",
      "text/plain": [
       "<Figure size 640x480 with 1 Axes>"
      ]
     },
     "metadata": {},
     "output_type": "display_data"
    }
   ],
   "source": [
    "acc = train_accuracies\n",
    "val_acc = val_accuracies\n",
    "loss = train_losses\n",
    "val_loss = val_losses\n",
    "\n",
    "epochs = range(len(acc))                                                                                                                                                                                                                                                                                                                    \n",
    "\n",
    "plt.plot(epochs, acc, 'r', label='Training accuracy')\n",
    "plt.plot(epochs, val_acc, 'b', label='Validation accuracy')\n",
    "plt.title('Training and validation accuracy')\n",
    "plt.legend()\n",
    "plt.figure()\n",
    "\n",
    "plt.plot(epochs, loss, 'r', label='Training Loss')\n",
    "plt.plot(epochs, val_loss, 'b', label='Validation Loss')\n",
    "plt.title('Training and validation loss')\n",
    "plt.legend()\n",
    "\n",
    "plt.show()"
   ]
  },
  {
   "cell_type": "code",
   "execution_count": 16,
   "id": "8def8048",
   "metadata": {
    "execution": {
     "iopub.execute_input": "2024-07-19T06:37:19.570899Z",
     "iopub.status.busy": "2024-07-19T06:37:19.570637Z",
     "iopub.status.idle": "2024-07-19T06:37:19.580411Z",
     "shell.execute_reply": "2024-07-19T06:37:19.579624Z"
    },
    "papermill": {
     "duration": 0.020192,
     "end_time": "2024-07-19T06:37:19.582331",
     "exception": false,
     "start_time": "2024-07-19T06:37:19.562139",
     "status": "completed"
    },
    "tags": []
   },
   "outputs": [
    {
     "data": {
      "text/plain": [
       "<All keys matched successfully>"
      ]
     },
     "execution_count": 16,
     "metadata": {},
     "output_type": "execute_result"
    }
   ],
   "source": [
    "model.load_state_dict(torch.load('model_cnn_landmark.pth'))"
   ]
  },
  {
   "cell_type": "code",
   "execution_count": 17,
   "id": "c20d83dd",
   "metadata": {
    "execution": {
     "iopub.execute_input": "2024-07-19T06:37:19.598608Z",
     "iopub.status.busy": "2024-07-19T06:37:19.598347Z",
     "iopub.status.idle": "2024-07-19T06:37:36.580684Z",
     "shell.execute_reply": "2024-07-19T06:37:36.578341Z"
    },
    "papermill": {
     "duration": 16.993329,
     "end_time": "2024-07-19T06:37:36.583230",
     "exception": false,
     "start_time": "2024-07-19T06:37:19.589901",
     "status": "completed"
    },
    "tags": []
   },
   "outputs": [
    {
     "name": "stdout",
     "output_type": "stream",
     "text": [
      "Test Accuracy: 0.4961\n"
     ]
    }
   ],
   "source": [
    "from sklearn.metrics import classification_report, confusion_matrix\n",
    "def test_model_cnn(test_loader):\n",
    "    model.eval()\n",
    "    video_outputs = {}\n",
    "    video_labels = {}\n",
    "\n",
    "    with torch.no_grad():\n",
    "        for data in test_loader:\n",
    "            cnn_features, cnn_labels, cnn_filenames = data\n",
    "            cnn_features = cnn_features.to(device)\n",
    "\n",
    "            out = model(cnn_features)\n",
    "            softmax_out = out.softmax(dim=1).detach().cpu().numpy()\n",
    "            labels = cnn_labels.cpu().numpy()\n",
    "\n",
    "            # Aggregate predictions by video filename\n",
    "            for filename, pred, label in zip(cnn_filenames, softmax_out, labels):\n",
    "                if filename not in video_outputs:\n",
    "                    video_outputs[filename] = np.zeros(pred.shape)\n",
    "                    video_labels[filename] = label\n",
    "                video_outputs[filename] += pred\n",
    "\n",
    "    # Calculate video-level predictions\n",
    "    final_preds = []\n",
    "    final_labels = []\n",
    "\n",
    "    for filename in video_outputs:\n",
    "        video_prediction = np.argmax(video_outputs[filename])\n",
    "        final_preds.append(video_prediction)\n",
    "        final_labels.append(video_labels[filename])\n",
    "\n",
    "    return np.array(final_preds), np.array(final_labels)\n",
    "\n",
    "# Example usage\n",
    "test_preds, test_true = test_model_cnn(test_loader)\n",
    "test_accuracy = np.sum(test_preds == test_true) / len(test_true)\n",
    "print(f'Test Accuracy: {test_accuracy:.4f}')\n"
   ]
  },
  {
   "cell_type": "code",
   "execution_count": 18,
   "id": "80d24da6",
   "metadata": {
    "execution": {
     "iopub.execute_input": "2024-07-19T06:37:36.604502Z",
     "iopub.status.busy": "2024-07-19T06:37:36.604189Z",
     "iopub.status.idle": "2024-07-19T06:37:36.618684Z",
     "shell.execute_reply": "2024-07-19T06:37:36.617740Z"
    },
    "papermill": {
     "duration": 0.026577,
     "end_time": "2024-07-19T06:37:36.620577",
     "exception": false,
     "start_time": "2024-07-19T06:37:36.594000",
     "status": "completed"
    },
    "tags": []
   },
   "outputs": [
    {
     "name": "stdout",
     "output_type": "stream",
     "text": [
      "Frame-Level Classification Report (Test):\n",
      "              precision    recall  f1-score   support\n",
      "\n",
      "           0       0.00      0.00      0.00         4\n",
      "           1       0.24      0.06      0.10        84\n",
      "           2       0.51      0.74      0.60       900\n",
      "           3       0.47      0.27      0.34       796\n",
      "\n",
      "    accuracy                           0.50      1784\n",
      "   macro avg       0.30      0.27      0.26      1784\n",
      "weighted avg       0.48      0.50      0.46      1784\n",
      "\n"
     ]
    }
   ],
   "source": [
    "print(\"Frame-Level Classification Report (Test):\")\n",
    "print(classification_report(test_true, test_preds, zero_division=0))"
   ]
  },
  {
   "cell_type": "code",
   "execution_count": 19,
   "id": "d15a28ea",
   "metadata": {
    "execution": {
     "iopub.execute_input": "2024-07-19T06:37:36.637195Z",
     "iopub.status.busy": "2024-07-19T06:37:36.636914Z",
     "iopub.status.idle": "2024-07-19T06:37:36.953364Z",
     "shell.execute_reply": "2024-07-19T06:37:36.952482Z"
    },
    "papermill": {
     "duration": 0.327021,
     "end_time": "2024-07-19T06:37:36.955393",
     "exception": false,
     "start_time": "2024-07-19T06:37:36.628372",
     "status": "completed"
    },
    "tags": []
   },
   "outputs": [
    {
     "data": {
      "image/png": "[encoded data removed]",
      "text/plain": [
       "<Figure size 1000x800 with 2 Axes>"
      ]
     },
     "metadata": {},
     "output_type": "display_data"
    }
   ],
   "source": [
    "conf_matrix = confusion_matrix(test_true, test_preds)\n",
    "plt.figure(figsize=(10, 8))\n",
    "sns.heatmap(conf_matrix, annot=True, fmt=\"d\", cmap=\"Blues\", xticklabels=np.unique(test_true), yticklabels=np.unique(test_preds))\n",
    "plt.xlabel('Predicted Labels')\n",
    "plt.ylabel('True Labels')\n",
    "plt.title('Confusion Matrix')\n",
    "plt.show()"
   ]
  },
  {
   "cell_type": "code",
   "execution_count": null,
   "id": "1bef3ba1",
   "metadata": {
    "papermill": {
     "duration": 0.007949,
     "end_time": "2024-07-19T06:37:36.971718",
     "exception": false,
     "start_time": "2024-07-19T06:37:36.963769",
     "status": "completed"
    },
    "tags": []
   },
   "outputs": [],
   "source": []
  }
 ],
 "metadata": {
  "kaggle": {
   "accelerator": "nvidiaTeslaT4",
   "dataSources": [
    {
     "datasetId": 5096860,
     "sourceId": 8846191,
     "sourceType": "datasetVersion"
    }
   ],
   "dockerImageVersionId": 30748,
   "isGpuEnabled": true,
   "isInternetEnabled": true,
   "language": "python",
   "sourceType": "notebook"
  },
  "kernelspec": {
   "display_name": "Python 3",
   "language": "python",
   "name": "python3"
  },
  "language_info": {
   "codemirror_mode": {
    "name": "ipython",
    "version": 3
   },
   "file_extension": ".py",
   "mimetype": "text/x-python",
   "name": "python",
   "nbconvert_exporter": "python",
   "pygments_lexer": "ipython3",
   "version": "3.10.13"
  },
  "papermill": {
   "default_parameters": {},
   "duration": 1889.967063,
   "end_time": "2024-07-19T06:37:39.457274",
   "environment_variables": {},
   "exception": null,
   "input_path": "__notebook__.ipynb",
   "output_path": "__notebook__.ipynb",
   "parameters": {},
   "start_time": "2024-07-19T06:06:09.490211",
   "version": "2.5.0"
  }
 },
 "nbformat": 4,
 "nbformat_minor": 5
}
