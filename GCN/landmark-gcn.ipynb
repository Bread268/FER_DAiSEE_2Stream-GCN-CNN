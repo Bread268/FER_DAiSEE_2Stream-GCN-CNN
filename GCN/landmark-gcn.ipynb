{
 "cells": [
  {
   "cell_type": "code",
   "execution_count": 1,
   "id": "78492aa6",
   "metadata": {
    "_cell_guid": "b1076dfc-b9ad-4769-8c92-a6c4dae69d19",
    "_uuid": "8f2839f25d086af736a60e9eeb907d3b93b6e0e5",
    "execution": {
     "iopub.execute_input": "2024-07-18T16:20:41.504821Z",
     "iopub.status.busy": "2024-07-18T16:20:41.504496Z",
     "iopub.status.idle": "2024-07-18T16:20:58.597946Z",
     "shell.execute_reply": "2024-07-18T16:20:58.596736Z"
    },
    "papermill": {
     "duration": 17.102059,
     "end_time": "2024-07-18T16:20:58.599968",
     "exception": false,
     "start_time": "2024-07-18T16:20:41.497909",
     "status": "completed"
    },
    "tags": []
   },
   "outputs": [
    {
     "name": "stdout",
     "output_type": "stream",
     "text": [
      "Collecting torch-geometric\r\n",
      "  Downloading torch_geometric-2.5.3-py3-none-any.whl.metadata (64 kB)\r\n",
      "\u001b[2K     \u001b[90m━━━━━━━━━━━━━━━━━━━━━━━━━━━━━━━━━━━━━━━\u001b[0m \u001b[32m64.2/64.2 kB\u001b[0m \u001b[31m599.3 kB/s\u001b[0m eta \u001b[36m0:00:00\u001b[0m\r\n",
      "\u001b[?25hRequirement already satisfied: tqdm in /opt/conda/lib/python3.10/site-packages (from torch-geometric) (4.66.4)\r\n",
      "Requirement already satisfied: numpy in /opt/conda/lib/python3.10/site-packages (from torch-geometric) (1.26.4)\r\n",
      "Requirement already satisfied: scipy in /opt/conda/lib/python3.10/site-packages (from torch-geometric) (1.11.4)\r\n",
      "Requirement already satisfied: fsspec in /opt/conda/lib/python3.10/site-packages (from torch-geometric) (2024.5.0)\r\n",
      "Requirement already satisfied: jinja2 in /opt/conda/lib/python3.10/site-packages (from torch-geometric) (3.1.2)\r\n",
      "Requirement already satisfied: aiohttp in /opt/conda/lib/python3.10/site-packages (from torch-geometric) (3.9.1)\r\n",
      "Requirement already satisfied: requests in /opt/conda/lib/python3.10/site-packages (from torch-geometric) (2.32.3)\r\n",
      "Requirement already satisfied: pyparsing in /opt/conda/lib/python3.10/site-packages (from torch-geometric) (3.1.1)\r\n",
      "Requirement already satisfied: scikit-learn in /opt/conda/lib/python3.10/site-packages (from torch-geometric) (1.2.2)\r\n",
      "Requirement already satisfied: psutil>=5.8.0 in /opt/conda/lib/python3.10/site-packages (from torch-geometric) (5.9.3)\r\n",
      "Requirement already satisfied: attrs>=17.3.0 in /opt/conda/lib/python3.10/site-packages (from aiohttp->torch-geometric) (23.2.0)\r\n",
      "Requirement already satisfied: multidict<7.0,>=4.5 in /opt/conda/lib/python3.10/site-packages (from aiohttp->torch-geometric) (6.0.4)\r\n",
      "Requirement already satisfied: yarl<2.0,>=1.0 in /opt/conda/lib/python3.10/site-packages (from aiohttp->torch-geometric) (1.9.3)\r\n",
      "Requirement already satisfied: frozenlist>=1.1.1 in /opt/conda/lib/python3.10/site-packages (from aiohttp->torch-geometric) (1.4.1)\r\n",
      "Requirement already satisfied: aiosignal>=1.1.2 in /opt/conda/lib/python3.10/site-packages (from aiohttp->torch-geometric) (1.3.1)\r\n",
      "Requirement already satisfied: async-timeout<5.0,>=4.0 in /opt/conda/lib/python3.10/site-packages (from aiohttp->torch-geometric) (4.0.3)\r\n",
      "Requirement already satisfied: MarkupSafe>=2.0 in /opt/conda/lib/python3.10/site-packages (from jinja2->torch-geometric) (2.1.3)\r\n",
      "Requirement already satisfied: charset-normalizer<4,>=2 in /opt/conda/lib/python3.10/site-packages (from requests->torch-geometric) (3.3.2)\r\n",
      "Requirement already satisfied: idna<4,>=2.5 in /opt/conda/lib/python3.10/site-packages (from requests->torch-geometric) (3.6)\r\n",
      "Requirement already satisfied: urllib3<3,>=1.21.1 in /opt/conda/lib/python3.10/site-packages (from requests->torch-geometric) (1.26.18)\r\n",
      "Requirement already satisfied: certifi>=2017.4.17 in /opt/conda/lib/python3.10/site-packages (from requests->torch-geometric) (2024.7.4)\r\n",
      "Requirement already satisfied: joblib>=1.1.1 in /opt/conda/lib/python3.10/site-packages (from scikit-learn->torch-geometric) (1.4.2)\r\n",
      "Requirement already satisfied: threadpoolctl>=2.0.0 in /opt/conda/lib/python3.10/site-packages (from scikit-learn->torch-geometric) (3.2.0)\r\n",
      "Downloading torch_geometric-2.5.3-py3-none-any.whl (1.1 MB)\r\n",
      "\u001b[2K   \u001b[90m━━━━━━━━━━━━━━━━━━━━━━━━━━━━━━━━━━━━━━━━\u001b[0m \u001b[32m1.1/1.1 MB\u001b[0m \u001b[31m6.2 MB/s\u001b[0m eta \u001b[36m0:00:00\u001b[0m\r\n",
      "\u001b[?25hInstalling collected packages: torch-geometric\r\n",
      "Successfully installed torch-geometric-2.5.3\r\n",
      "Note: you may need to restart the kernel to use updated packages.\n"
     ]
    }
   ],
   "source": [
    "pip install torch-geometric"
   ]
  },
  {
   "cell_type": "code",
   "execution_count": 2,
   "id": "30db2b45",
   "metadata": {
    "execution": {
     "iopub.execute_input": "2024-07-18T16:20:58.614587Z",
     "iopub.status.busy": "2024-07-18T16:20:58.614271Z",
     "iopub.status.idle": "2024-07-18T16:32:47.450914Z",
     "shell.execute_reply": "2024-07-18T16:32:47.449788Z"
    },
    "papermill": {
     "duration": 708.846424,
     "end_time": "2024-07-18T16:32:47.453163",
     "exception": false,
     "start_time": "2024-07-18T16:20:58.606739",
     "status": "completed"
    },
    "tags": []
   },
   "outputs": [
    {
     "name": "stdout",
     "output_type": "stream",
     "text": [
      "Collecting torch-scatter\r\n",
      "  Downloading torch_scatter-2.1.2.tar.gz (108 kB)\r\n",
      "\u001b[2K     \u001b[90m━━━━━━━━━━━━━━━━━━━━━━━━━━━━━━━━━━━━━\u001b[0m \u001b[32m108.0/108.0 kB\u001b[0m \u001b[31m966.7 kB/s\u001b[0m eta \u001b[36m0:00:00\u001b[0m\r\n",
      "\u001b[?25h  Preparing metadata (setup.py) ... \u001b[?25l-\b \bdone\r\n",
      "\u001b[?25hBuilding wheels for collected packages: torch-scatter\r\n",
      "  Building wheel for torch-scatter (setup.py) ... \u001b[?25l-\b \b\\\b \bdone\r\n",
      "\u001b[?25h  Created wheel for torch-scatter: filename=torch_scatter-2.1.2-cp310-cp310-linux_x86_64.whl size=3548505 sha256=36c2baaeed5cfc4e5171a2b6d69549437c3ddd41194dae16d677171ba9be03d0\r\n",
      "  Stored in directory: /root/.cache/pip/wheels/92/f1/2b/3b46d54b134259f58c8363568569053248040859b1a145b3ce\r\n",
      "Successfully built torch-scatter\r\n",
      "Installing collected packages: torch-scatter\r\n",
      "Successfully installed torch-scatter-2.1.2\r\n"
     ]
    }
   ],
   "source": [
    "!pip install torch-scatter"
   ]
  },
  {
   "cell_type": "code",
   "execution_count": 3,
   "id": "d9f224ea",
   "metadata": {
    "execution": {
     "iopub.execute_input": "2024-07-18T16:32:47.469625Z",
     "iopub.status.busy": "2024-07-18T16:32:47.469265Z",
     "iopub.status.idle": "2024-07-18T16:32:57.789049Z",
     "shell.execute_reply": "2024-07-18T16:32:57.788078Z"
    },
    "papermill": {
     "duration": 10.330706,
     "end_time": "2024-07-18T16:32:57.791501",
     "exception": false,
     "start_time": "2024-07-18T16:32:47.460795",
     "status": "completed"
    },
    "tags": []
   },
   "outputs": [],
   "source": [
    "import os\n",
    "import matplotlib.pyplot as plt\n",
    "import pandas as pd\n",
    "import numpy as np\n",
    "import torch\n",
    "import torch.nn as nn\n",
    "import torch.optim as optim\n",
    "import torch.nn.functional as F\n",
    "from torch_geometric.loader import DataLoader\n",
    "from torch_geometric.data import Data\n",
    "from torch_geometric.nn import GCNConv, BatchNorm, global_max_pool\n",
    "from scipy.spatial import Delaunay\n",
    "import networkx as nx\n",
    "from torch_geometric.utils import to_networkx\n",
    "from sklearn.preprocessing import StandardScaler, MinMaxScaler\n",
    "import seaborn as sns"
   ]
  },
  {
   "cell_type": "code",
   "execution_count": 4,
   "id": "65cd42b4",
   "metadata": {
    "execution": {
     "iopub.execute_input": "2024-07-18T16:32:57.810037Z",
     "iopub.status.busy": "2024-07-18T16:32:57.809500Z",
     "iopub.status.idle": "2024-07-18T16:35:26.097375Z",
     "shell.execute_reply": "2024-07-18T16:35:26.096549Z"
    },
    "papermill": {
     "duration": 148.299305,
     "end_time": "2024-07-18T16:35:26.099971",
     "exception": false,
     "start_time": "2024-07-18T16:32:57.800666",
     "status": "completed"
    },
    "tags": []
   },
   "outputs": [],
   "source": [
    "train_df = pd.read_csv(\"/kaggle/input/landmarkengagement-v3b/TrainEngagement_v3b.csv\")\n",
    "val_df = pd.read_csv(\"/kaggle/input/landmarkengagement-v3b/ValEngagement_v3b.csv\")\n",
    "test_df = pd.read_csv(\"/kaggle/input/landmarkengagement-v3b/TestEngagement_v3b.csv\")"
   ]
  },
  {
   "cell_type": "code",
   "execution_count": 5,
   "id": "95428f21",
   "metadata": {
    "execution": {
     "iopub.execute_input": "2024-07-18T16:35:26.117599Z",
     "iopub.status.busy": "2024-07-18T16:35:26.117326Z",
     "iopub.status.idle": "2024-07-18T16:35:34.048612Z",
     "shell.execute_reply": "2024-07-18T16:35:34.047743Z"
    },
    "papermill": {
     "duration": 7.942543,
     "end_time": "2024-07-18T16:35:34.050989",
     "exception": false,
     "start_time": "2024-07-18T16:35:26.108446",
     "status": "completed"
    },
    "tags": []
   },
   "outputs": [],
   "source": [
    "train_labels = train_df['labels'].values\n",
    "train_filenames = train_df['file_name'].str.split(\"_\").str[0].values\n",
    "train_df = train_df.drop(columns=['file_name', 'labels']).values\n",
    "val_labels = val_df['labels'].values\n",
    "val_filenames = val_df['file_name'].str.split(\"_\").str[0].values\n",
    "val_df = val_df.drop(columns=['file_name', 'labels']).values\n",
    "test_labels = test_df['labels'].values\n",
    "test_filenames = test_df['file_name'].str.split(\"_\").str[0].values\n",
    "test_df = test_df.drop(columns=['file_name', 'labels']).values"
   ]
  },
  {
   "cell_type": "code",
   "execution_count": 6,
   "id": "a6222559",
   "metadata": {
    "execution": {
     "iopub.execute_input": "2024-07-18T16:35:34.068032Z",
     "iopub.status.busy": "2024-07-18T16:35:34.067742Z",
     "iopub.status.idle": "2024-07-18T16:35:36.439879Z",
     "shell.execute_reply": "2024-07-18T16:35:36.439044Z"
    },
    "papermill": {
     "duration": 2.383061,
     "end_time": "2024-07-18T16:35:36.442212",
     "exception": false,
     "start_time": "2024-07-18T16:35:34.059151",
     "status": "completed"
    },
    "tags": []
   },
   "outputs": [],
   "source": [
    "minmax_scaler = MinMaxScaler()\n",
    "train_df = minmax_scaler.fit_transform(train_df)\n",
    "val_df = minmax_scaler.fit_transform(val_df)\n",
    "test_df = minmax_scaler.transform(test_df)"
   ]
  },
  {
   "cell_type": "code",
   "execution_count": 7,
   "id": "dba6ad1e",
   "metadata": {
    "execution": {
     "iopub.execute_input": "2024-07-18T16:35:36.458874Z",
     "iopub.status.busy": "2024-07-18T16:35:36.458584Z",
     "iopub.status.idle": "2024-07-18T16:35:36.517768Z",
     "shell.execute_reply": "2024-07-18T16:35:36.516920Z"
    },
    "papermill": {
     "duration": 0.069551,
     "end_time": "2024-07-18T16:35:36.519711",
     "exception": false,
     "start_time": "2024-07-18T16:35:36.450160",
     "status": "completed"
    },
    "tags": []
   },
   "outputs": [],
   "source": [
    "train_labels = torch.tensor(train_labels, dtype=torch.long)\n",
    "val_labels = torch.tensor(val_labels, dtype=torch.long)\n",
    "test_labels = torch.tensor(test_labels, dtype=torch.long)"
   ]
  },
  {
   "cell_type": "code",
   "execution_count": 8,
   "id": "6f4b669f",
   "metadata": {
    "execution": {
     "iopub.execute_input": "2024-07-18T16:35:36.536341Z",
     "iopub.status.busy": "2024-07-18T16:35:36.536049Z",
     "iopub.status.idle": "2024-07-18T16:35:36.585155Z",
     "shell.execute_reply": "2024-07-18T16:35:36.584354Z"
    },
    "papermill": {
     "duration": 0.059586,
     "end_time": "2024-07-18T16:35:36.587075",
     "exception": false,
     "start_time": "2024-07-18T16:35:36.527489",
     "status": "completed"
    },
    "tags": []
   },
   "outputs": [],
   "source": [
    "def create_delaunay_graph_data(X, y):\n",
    "    num_nodes = X.shape[1] // 2\n",
    "    data_list = []\n",
    "\n",
    "    for i in range(X.shape[0]):\n",
    "        node_features = torch.tensor(X[i].reshape(num_nodes, 2), dtype=torch.float)\n",
    "        points = node_features.numpy()  # Use x and y for Delaunay triangulation\n",
    "        tri = Delaunay(points)\n",
    "\n",
    "        y_tensor = y[i]\n",
    "        \n",
    "        edges = set()\n",
    "        for simplex in tri.simplices:\n",
    "            for j in range(3):\n",
    "                for k in range(j + 1, 3):\n",
    "                    edges.add((simplex[j], simplex[k]))\n",
    "                    edges.add((simplex[k], simplex[j]))\n",
    "        \n",
    "        edge_index = torch.tensor(list(edges), dtype=torch.long).t().contiguous()\n",
    "        data_list.append(Data(x=node_features, edge_index=edge_index, y=y_tensor))\n",
    "    \n",
    "    return data_list"
   ]
  },
  {
   "cell_type": "code",
   "execution_count": 9,
   "id": "552195f5",
   "metadata": {
    "execution": {
     "iopub.execute_input": "2024-07-18T16:35:36.603638Z",
     "iopub.status.busy": "2024-07-18T16:35:36.603369Z",
     "iopub.status.idle": "2024-07-18T17:47:38.638634Z",
     "shell.execute_reply": "2024-07-18T17:47:38.613248Z"
    },
    "papermill": {
     "duration": 4322.059017,
     "end_time": "2024-07-18T17:47:38.654055",
     "exception": false,
     "start_time": "2024-07-18T16:35:36.595038",
     "status": "completed"
    },
    "tags": []
   },
   "outputs": [],
   "source": [
    "train_data = create_delaunay_graph_data(train_df, train_labels)\n",
    "val_data = create_delaunay_graph_data(val_df, val_labels)\n",
    "test_data = create_delaunay_graph_data(test_df, test_labels)"
   ]
  },
  {
   "cell_type": "code",
   "execution_count": 10,
   "id": "9530be2e",
   "metadata": {
    "execution": {
     "iopub.execute_input": "2024-07-18T17:47:38.674190Z",
     "iopub.status.busy": "2024-07-18T17:47:38.673906Z",
     "iopub.status.idle": "2024-07-18T17:47:53.037981Z",
     "shell.execute_reply": "2024-07-18T17:47:53.037117Z"
    },
    "papermill": {
     "duration": 14.37563,
     "end_time": "2024-07-18T17:47:53.040228",
     "exception": false,
     "start_time": "2024-07-18T17:47:38.664598",
     "status": "completed"
    },
    "tags": []
   },
   "outputs": [],
   "source": [
    "for i, data in enumerate(train_data):\n",
    "    data.filename = train_filenames[i]\n",
    "\n",
    "for i, data in enumerate(val_data):\n",
    "    data.filename = val_filenames[i]\n",
    "    \n",
    "for i, data in enumerate(test_data):\n",
    "    data.filename = test_filenames[i]"
   ]
  },
  {
   "cell_type": "code",
   "execution_count": 11,
   "id": "eba0ea80",
   "metadata": {
    "execution": {
     "iopub.execute_input": "2024-07-18T17:47:53.058022Z",
     "iopub.status.busy": "2024-07-18T17:47:53.057738Z",
     "iopub.status.idle": "2024-07-18T17:47:53.062881Z",
     "shell.execute_reply": "2024-07-18T17:47:53.062117Z"
    },
    "papermill": {
     "duration": 0.015998,
     "end_time": "2024-07-18T17:47:53.064796",
     "exception": false,
     "start_time": "2024-07-18T17:47:53.048798",
     "status": "completed"
    },
    "tags": []
   },
   "outputs": [],
   "source": [
    "train_loader = DataLoader(train_data, batch_size=32, shuffle=True)\n",
    "val_loader = DataLoader(val_data, batch_size=32, shuffle=False)\n",
    "test_loader = DataLoader(test_data, batch_size=32, shuffle=False)"
   ]
  },
  {
   "cell_type": "code",
   "execution_count": 12,
   "id": "15896483",
   "metadata": {
    "execution": {
     "iopub.execute_input": "2024-07-18T17:47:53.081401Z",
     "iopub.status.busy": "2024-07-18T17:47:53.081112Z",
     "iopub.status.idle": "2024-07-18T17:47:53.278051Z",
     "shell.execute_reply": "2024-07-18T17:47:53.277240Z"
    },
    "papermill": {
     "duration": 0.214772,
     "end_time": "2024-07-18T17:47:53.287358",
     "exception": false,
     "start_time": "2024-07-18T17:47:53.072586",
     "status": "completed"
    },
    "tags": []
   },
   "outputs": [
    {
     "name": "stdout",
     "output_type": "stream",
     "text": [
      "cuda\n"
     ]
    }
   ],
   "source": [
    "class SimpleGNN(torch.nn.Module):\n",
    "    def __init__(self, num_node_features, hidden_dim, num_classes):\n",
    "        super(SimpleGNN, self).__init__()\n",
    "        self.conv1 = GCNConv(num_node_features, hidden_dim)\n",
    "        self.bn1 = nn.BatchNorm1d(hidden_dim)\n",
    "        self.conv2 = GCNConv(hidden_dim, hidden_dim * 2)\n",
    "        self.bn2 = nn.BatchNorm1d(hidden_dim * 2)\n",
    "        self.fc1 = torch.nn.Linear(hidden_dim * 2, hidden_dim)\n",
    "        self.fc2 = torch.nn.Linear(hidden_dim, num_classes)\n",
    "\n",
    "    def forward(self, data):\n",
    "        x, edge_index, batch = data.x, data.edge_index, data.batch\n",
    "        x = self.conv1(x, edge_index)\n",
    "        x = self.bn1(x)\n",
    "        x = F.relu(x)\n",
    "        x = self.conv2(x, edge_index)\n",
    "        x = self.bn2(x)\n",
    "        x = F.relu(x)\n",
    "        x = global_max_pool(x, batch)\n",
    "        x = self.fc1(x)\n",
    "        x = F.relu(x)\n",
    "        x = self.fc2(x)\n",
    "        return x\n",
    "device = torch.device('cuda' if torch.cuda.is_available() else 'cpu')\n",
    "print(device)"
   ]
  },
  {
   "cell_type": "code",
   "execution_count": 13,
   "id": "4280a213",
   "metadata": {
    "execution": {
     "iopub.execute_input": "2024-07-18T17:47:53.304951Z",
     "iopub.status.busy": "2024-07-18T17:47:53.304686Z",
     "iopub.status.idle": "2024-07-18T17:47:53.867179Z",
     "shell.execute_reply": "2024-07-18T17:47:53.865945Z"
    },
    "papermill": {
     "duration": 0.573734,
     "end_time": "2024-07-18T17:47:53.869266",
     "exception": false,
     "start_time": "2024-07-18T17:47:53.295532",
     "status": "completed"
    },
    "tags": []
   },
   "outputs": [
    {
     "name": "stdout",
     "output_type": "stream",
     "text": [
      "SimpleGNN(\n",
      "  (conv1): GCNConv(2, 32)\n",
      "  (bn1): BatchNorm1d(32, eps=1e-05, momentum=0.1, affine=True, track_running_stats=True)\n",
      "  (conv2): GCNConv(32, 64)\n",
      "  (bn2): BatchNorm1d(64, eps=1e-05, momentum=0.1, affine=True, track_running_stats=True)\n",
      "  (fc1): Linear(in_features=64, out_features=32, bias=True)\n",
      "  (fc2): Linear(in_features=32, out_features=4, bias=True)\n",
      ")\n"
     ]
    }
   ],
   "source": [
    "model = SimpleGNN(num_node_features=2, hidden_dim=32, num_classes=4).to(device)\n",
    "print(model)\n",
    "optimizer = torch.optim.Adam(model.parameters(), lr=0.001)\n",
    "loss_fn = nn.CrossEntropyLoss()"
   ]
  },
  {
   "cell_type": "code",
   "execution_count": 14,
   "id": "33302192",
   "metadata": {
    "execution": {
     "iopub.execute_input": "2024-07-18T17:47:53.886908Z",
     "iopub.status.busy": "2024-07-18T17:47:53.886622Z",
     "iopub.status.idle": "2024-07-18T17:47:53.896147Z",
     "shell.execute_reply": "2024-07-18T17:47:53.895259Z"
    },
    "papermill": {
     "duration": 0.02059,
     "end_time": "2024-07-18T17:47:53.898264",
     "exception": false,
     "start_time": "2024-07-18T17:47:53.877674",
     "status": "completed"
    },
    "tags": []
   },
   "outputs": [],
   "source": [
    "def train(train_loader):\n",
    "    model.train()\n",
    "    video_outputs = {}\n",
    "    video_labels = {}\n",
    "    total_loss = 0\n",
    "    correct = 0\n",
    "\n",
    "    for data in train_loader:\n",
    "        data = data.to(device)\n",
    "\n",
    "        # Zero the parameter gradients\n",
    "        optimizer.zero_grad()\n",
    "\n",
    "        # Forward pass\n",
    "        outputs = model(data)\n",
    "        loss = loss_fn(outputs, data.y)\n",
    "        total_loss += loss.item()\n",
    "\n",
    "        # Backward pass and optimization\n",
    "        loss.backward()\n",
    "        optimizer.step()\n",
    "\n",
    "        softmax_out = outputs.softmax(dim=1).detach().cpu().numpy()\n",
    "        labels = data.y.cpu().numpy()\n",
    "\n",
    "        # Aggregate predictions by video filename\n",
    "        for filename, pred, label in zip(data.filename, softmax_out, labels):\n",
    "            if filename not in video_outputs:\n",
    "                video_outputs[filename] = np.zeros(pred.shape)\n",
    "                video_labels[filename] = label\n",
    "            video_outputs[filename] += pred\n",
    "\n",
    "    # Calculate video-level predictions\n",
    "    final_preds = []\n",
    "    final_labels = []\n",
    "\n",
    "    for filename in video_outputs:\n",
    "        video_prediction = np.argmax(video_outputs[filename])\n",
    "        final_preds.append(video_prediction)\n",
    "        final_labels.append(video_labels[filename])\n",
    "\n",
    "    train_accuracy = np.sum(np.array(final_preds) == np.array(final_labels)) / len(final_labels)\n",
    "    train_loss = total_loss / len(train_loader.dataset)\n",
    "    return train_loss, train_accuracy"
   ]
  },
  {
   "cell_type": "code",
   "execution_count": 15,
   "id": "24a39095",
   "metadata": {
    "execution": {
     "iopub.execute_input": "2024-07-18T17:47:53.915564Z",
     "iopub.status.busy": "2024-07-18T17:47:53.915314Z",
     "iopub.status.idle": "2024-07-18T17:47:53.923877Z",
     "shell.execute_reply": "2024-07-18T17:47:53.923072Z"
    },
    "papermill": {
     "duration": 0.019227,
     "end_time": "2024-07-18T17:47:53.925600",
     "exception": false,
     "start_time": "2024-07-18T17:47:53.906373",
     "status": "completed"
    },
    "tags": []
   },
   "outputs": [],
   "source": [
    "def evaluate(val_loader):\n",
    "    model.eval()\n",
    "    video_outputs = {}\n",
    "    video_labels = {}\n",
    "\n",
    "    val_loss = 0\n",
    "    with torch.no_grad():\n",
    "        for data in val_loader:\n",
    "            data = data.to(device)\n",
    "\n",
    "            outputs = model(data)\n",
    "            val_loss += loss_fn(outputs, data.y).item()\n",
    "\n",
    "            softmax_out = outputs.softmax(dim=1).detach().cpu().numpy()\n",
    "            labels = data.y.cpu().numpy()\n",
    "\n",
    "            # Aggregate predictions by video filename\n",
    "            for filename, pred, label in zip(data.filename, softmax_out, labels):\n",
    "                if filename not in video_outputs:\n",
    "                    video_outputs[filename] = np.zeros(pred.shape)\n",
    "                    video_labels[filename] = label\n",
    "                video_outputs[filename] += pred\n",
    "\n",
    "    # Calculate video-level predictions\n",
    "    final_preds = []\n",
    "    final_labels = []\n",
    "\n",
    "    for filename in video_outputs:\n",
    "        video_prediction = np.argmax(video_outputs[filename])\n",
    "        final_preds.append(video_prediction)\n",
    "        final_labels.append(video_labels[filename])\n",
    "\n",
    "    val_accuracy = np.sum(np.array(final_preds) == np.array(final_labels)) / len(final_labels)\n",
    "    val_loss /= len(val_loader.dataset)\n",
    "    return val_loss, val_accuracy"
   ]
  },
  {
   "cell_type": "code",
   "execution_count": 16,
   "id": "eea28123",
   "metadata": {
    "execution": {
     "iopub.execute_input": "2024-07-18T17:47:53.942912Z",
     "iopub.status.busy": "2024-07-18T17:47:53.942673Z",
     "iopub.status.idle": "2024-07-18T18:58:44.851486Z",
     "shell.execute_reply": "2024-07-18T18:58:44.850604Z"
    },
    "papermill": {
     "duration": 4250.929092,
     "end_time": "2024-07-18T18:58:44.862875",
     "exception": false,
     "start_time": "2024-07-18T17:47:53.933783",
     "status": "completed"
    },
    "tags": []
   },
   "outputs": [
    {
     "name": "stdout",
     "output_type": "stream",
     "text": [
      "Epoch 1, Train Loss: 0.0253, Train Accuracy: 0.5726, Val Loss: 0.0322, Val Accuracy: 0.5315\n",
      "Epoch 2, Train Loss: 0.0248, Train Accuracy: 0.6005, Val Loss: 0.0328, Val Accuracy: 0.5357\n",
      "Epoch 3, Train Loss: 0.0246, Train Accuracy: 0.6113, Val Loss: 0.0327, Val Accuracy: 0.5339\n",
      "Epoch 4, Train Loss: 0.0245, Train Accuracy: 0.6194, Val Loss: 0.0327, Val Accuracy: 0.5339\n",
      "Epoch 5, Train Loss: 0.0243, Train Accuracy: 0.6258, Val Loss: 0.0333, Val Accuracy: 0.5333\n",
      "Epoch 6, Train Loss: 0.0242, Train Accuracy: 0.6295, Val Loss: 0.0332, Val Accuracy: 0.5339\n",
      "Epoch 7, Train Loss: 0.0242, Train Accuracy: 0.6382, Val Loss: 0.0335, Val Accuracy: 0.5351\n",
      "Epoch 8, Train Loss: 0.0241, Train Accuracy: 0.6422, Val Loss: 0.0341, Val Accuracy: 0.5256\n",
      "Epoch 9, Train Loss: 0.0240, Train Accuracy: 0.6441, Val Loss: 0.0341, Val Accuracy: 0.5435\n",
      "Epoch 10, Train Loss: 0.0240, Train Accuracy: 0.6465, Val Loss: 0.0354, Val Accuracy: 0.5333\n",
      "best val acc: 0.5434523809523809\n"
     ]
    }
   ],
   "source": [
    "num_epochs = 10\n",
    "train_losses = []\n",
    "val_losses = []\n",
    "train_accuracies = []\n",
    "val_accuracies = []\n",
    "best_val_accuracy = 0.0\n",
    "best_model_weights = None\n",
    "\n",
    "\n",
    "for epoch in range(num_epochs):\n",
    "    train_loss, train_accuracy = train(train_loader)\n",
    "    val_loss, val_accuracy = evaluate(val_loader)\n",
    "    train_losses.append(train_loss)\n",
    "    val_losses.append(val_loss)\n",
    "    train_accuracies.append(train_accuracy)\n",
    "    val_accuracies.append(val_accuracy)\n",
    "    \n",
    "    if val_accuracy > best_val_accuracy:\n",
    "        best_val_accuracy = val_accuracy\n",
    "        best_model_weights = model.state_dict()\n",
    "    \n",
    "    print(f'Epoch {epoch+1}, Train Loss: {train_loss:.4f}, Train Accuracy: {train_accuracy:.4f}, Val Loss: {val_loss:.4f}, Val Accuracy: {val_accuracy:.4f}')\n",
    "print(f\"best val acc: {best_val_accuracy}\")\n",
    "torch.save(best_model_weights, 'model_gcn_landmark.pth')"
   ]
  },
  {
   "cell_type": "code",
   "execution_count": 17,
   "id": "66589aed",
   "metadata": {
    "execution": {
     "iopub.execute_input": "2024-07-18T18:58:44.883185Z",
     "iopub.status.busy": "2024-07-18T18:58:44.882895Z",
     "iopub.status.idle": "2024-07-18T18:58:45.589687Z",
     "shell.execute_reply": "2024-07-18T18:58:45.588784Z"
    },
    "papermill": {
     "duration": 0.718787,
     "end_time": "2024-07-18T18:58:45.591635",
     "exception": false,
     "start_time": "2024-07-18T18:58:44.872848",
     "status": "completed"
    },
    "tags": []
   },
   "outputs": [
    {
     "data": {
      "image/png": "[encoded data removed]",
      "text/plain": [
       "<Figure size 640x480 with 1 Axes>"
      ]
     },
     "metadata": {},
     "output_type": "display_data"
    },
    {
     "data": {
      "image/png": "[encoded data removed]",
      "text/plain": [
       "<Figure size 640x480 with 1 Axes>"
      ]
     },
     "metadata": {},
     "output_type": "display_data"
    }
   ],
   "source": [
    "acc = train_accuracies\n",
    "val_acc = val_accuracies\n",
    "loss = train_losses\n",
    "val_loss = val_losses\n",
    "\n",
    "epochs = range(len(acc))                                                                                                                                                                                                                                                                                                                    \n",
    "\n",
    "plt.plot(epochs, acc, 'r', label='Training accuracy')\n",
    "plt.plot(epochs, val_acc, 'b', label='Validation accuracy')\n",
    "plt.title('Training and validation accuracy')\n",
    "plt.legend()\n",
    "plt.figure()\n",
    "\n",
    "plt.plot(epochs, loss, 'r', label='Training Loss')\n",
    "plt.plot(epochs, val_loss, 'b', label='Validation Loss')\n",
    "plt.title('Training and validation loss')\n",
    "plt.legend()\n",
    "\n",
    "plt.show()"
   ]
  },
  {
   "cell_type": "code",
   "execution_count": 18,
   "id": "0b5ce35c",
   "metadata": {
    "execution": {
     "iopub.execute_input": "2024-07-18T18:58:45.614458Z",
     "iopub.status.busy": "2024-07-18T18:58:45.614155Z",
     "iopub.status.idle": "2024-07-18T18:58:45.638129Z",
     "shell.execute_reply": "2024-07-18T18:58:45.637246Z"
    },
    "papermill": {
     "duration": 0.036928,
     "end_time": "2024-07-18T18:58:45.640044",
     "exception": false,
     "start_time": "2024-07-18T18:58:45.603116",
     "status": "completed"
    },
    "tags": []
   },
   "outputs": [
    {
     "data": {
      "text/plain": [
       "<All keys matched successfully>"
      ]
     },
     "execution_count": 18,
     "metadata": {},
     "output_type": "execute_result"
    }
   ],
   "source": [
    "model.load_state_dict(torch.load('model_gcn_landmark.pth'))"
   ]
  },
  {
   "cell_type": "code",
   "execution_count": 19,
   "id": "d48620c9",
   "metadata": {
    "execution": {
     "iopub.execute_input": "2024-07-18T18:58:45.661567Z",
     "iopub.status.busy": "2024-07-18T18:58:45.661278Z",
     "iopub.status.idle": "2024-07-18T19:00:05.469471Z",
     "shell.execute_reply": "2024-07-18T19:00:05.468595Z"
    },
    "papermill": {
     "duration": 79.831615,
     "end_time": "2024-07-18T19:00:05.481888",
     "exception": false,
     "start_time": "2024-07-18T18:58:45.650273",
     "status": "completed"
    },
    "tags": []
   },
   "outputs": [
    {
     "name": "stdout",
     "output_type": "stream",
     "text": [
      "Test Accuracy: 0.5056\n"
     ]
    }
   ],
   "source": [
    "from sklearn.metrics import classification_report, confusion_matrix\n",
    "def test_model_cnn(test_loader):\n",
    "    model.eval()\n",
    "    video_outputs = {}\n",
    "    video_labels = {}\n",
    "\n",
    "    with torch.no_grad():\n",
    "        for data in test_loader:\n",
    "            data = data.to(device)\n",
    "\n",
    "            out = model(data)\n",
    "            softmax_out = out.softmax(dim=1).detach().cpu().numpy()\n",
    "            labels = data.y.cpu().numpy()\n",
    "\n",
    "            # Aggregate predictions by video filename\n",
    "            for filename, pred, label in zip(data.filename, softmax_out, labels):\n",
    "                if filename not in video_outputs:\n",
    "                    video_outputs[filename] = np.zeros(pred.shape)\n",
    "                    video_labels[filename] = label\n",
    "                video_outputs[filename] += pred\n",
    "\n",
    "    # Calculate video-level predictions\n",
    "    final_preds = []\n",
    "    final_labels = []\n",
    "\n",
    "    for filename in video_outputs:\n",
    "        video_prediction = np.argmax(video_outputs[filename])\n",
    "        final_preds.append(video_prediction)\n",
    "        final_labels.append(video_labels[filename])\n",
    "\n",
    "    return np.array(final_preds), np.array(final_labels)\n",
    "\n",
    "# Example usage\n",
    "test_preds, test_true = test_model_cnn(test_loader)\n",
    "test_accuracy = np.sum(test_preds == test_true) / len(test_true)\n",
    "print(f'Test Accuracy: {test_accuracy:.4f}')"
   ]
  },
  {
   "cell_type": "code",
   "execution_count": 20,
   "id": "3ec156d0",
   "metadata": {
    "execution": {
     "iopub.execute_input": "2024-07-18T19:00:05.503611Z",
     "iopub.status.busy": "2024-07-18T19:00:05.503310Z",
     "iopub.status.idle": "2024-07-18T19:00:05.520701Z",
     "shell.execute_reply": "2024-07-18T19:00:05.519624Z"
    },
    "papermill": {
     "duration": 0.030448,
     "end_time": "2024-07-18T19:00:05.522645",
     "exception": false,
     "start_time": "2024-07-18T19:00:05.492197",
     "status": "completed"
    },
    "tags": []
   },
   "outputs": [
    {
     "name": "stdout",
     "output_type": "stream",
     "text": [
      "Frame-Level Classification Report (Test):\n",
      "              precision    recall  f1-score   support\n",
      "\n",
      "           0       0.00      0.00      0.00         4\n",
      "           1       0.00      0.00      0.00        84\n",
      "           2       0.51      0.95      0.66       900\n",
      "           3       0.46      0.06      0.11       796\n",
      "\n",
      "    accuracy                           0.51      1784\n",
      "   macro avg       0.24      0.25      0.19      1784\n",
      "weighted avg       0.46      0.51      0.38      1784\n",
      "\n"
     ]
    }
   ],
   "source": [
    "print(\"Frame-Level Classification Report (Test):\")\n",
    "print(classification_report(test_true, test_preds, zero_division=0))"
   ]
  },
  {
   "cell_type": "code",
   "execution_count": 21,
   "id": "44ff3491",
   "metadata": {
    "execution": {
     "iopub.execute_input": "2024-07-18T19:00:05.544443Z",
     "iopub.status.busy": "2024-07-18T19:00:05.544153Z",
     "iopub.status.idle": "2024-07-18T19:00:05.894112Z",
     "shell.execute_reply": "2024-07-18T19:00:05.892919Z"
    },
    "papermill": {
     "duration": 0.363003,
     "end_time": "2024-07-18T19:00:05.896049",
     "exception": false,
     "start_time": "2024-07-18T19:00:05.533046",
     "status": "completed"
    },
    "tags": []
   },
   "outputs": [
    {
     "data": {
      "image/png": "[encoded data removed]",
      "text/plain": [
       "<Figure size 1000x800 with 2 Axes>"
      ]
     },
     "metadata": {},
     "output_type": "display_data"
    }
   ],
   "source": [
    "conf_matrix = confusion_matrix(test_true, test_preds)\n",
    "plt.figure(figsize=(10, 8))\n",
    "sns.heatmap(conf_matrix, annot=True, fmt=\"d\", cmap=\"Blues\", xticklabels=np.unique(test_true), yticklabels=np.unique(test_preds))\n",
    "plt.xlabel('Predicted Labels')\n",
    "plt.ylabel('True Labels')\n",
    "plt.title('Confusion Matrix')\n",
    "plt.show()"
   ]
  }
 ],
 "metadata": {
  "kaggle": {
   "accelerator": "nvidiaTeslaT4",
   "dataSources": [
    {
     "datasetId": 5096860,
     "sourceId": 8846191,
     "sourceType": "datasetVersion"
    }
   ],
   "dockerImageVersionId": 30747,
   "isGpuEnabled": true,
   "isInternetEnabled": true,
   "language": "python",
   "sourceType": "notebook"
  },
  "kernelspec": {
   "display_name": "Python 3",
   "language": "python",
   "name": "python3"
  },
  "language_info": {
   "codemirror_mode": {
    "name": "ipython",
    "version": 3
   },
   "file_extension": ".py",
   "mimetype": "text/x-python",
   "name": "python",
   "nbconvert_exporter": "python",
   "pygments_lexer": "ipython3",
   "version": "3.10.13"
  },
  "papermill": {
   "default_parameters": {},
   "duration": 9572.654267,
   "end_time": "2024-07-18T19:00:10.250667",
   "environment_variables": {},
   "exception": null,
   "input_path": "__notebook__.ipynb",
   "output_path": "__notebook__.ipynb",
   "parameters": {},
   "start_time": "2024-07-18T16:20:37.596400",
   "version": "2.5.0"
  }
 },
 "nbformat": 4,
 "nbformat_minor": 5
}
